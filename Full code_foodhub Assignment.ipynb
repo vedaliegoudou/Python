{
 "cells": [
  {
   "cell_type": "markdown",
   "id": "a5598691",
   "metadata": {},
   "source": [
    "Let us start by importing the required libraries\n"
   ]
  },
  {
   "cell_type": "code",
   "execution_count": 1,
   "id": "3e396bdf",
   "metadata": {},
   "outputs": [],
   "source": [
    "# Import libraries for data manipulation\n",
    "import numpy as np\n",
    "import pandas as pd\n",
    "\n",
    "# Import libraries for data visualization\n",
    "import matplotlib.pyplot as plt\n",
    "import seaborn as sns"
   ]
  },
  {
   "cell_type": "markdown",
   "id": "a3981a73",
   "metadata": {},
   "source": [
    "Understanding the structure of the data"
   ]
  },
  {
   "cell_type": "code",
   "execution_count": 3,
   "id": "5ed00aa2",
   "metadata": {},
   "outputs": [
    {
     "data": {
      "text/html": [
       "<div>\n",
       "<style scoped>\n",
       "    .dataframe tbody tr th:only-of-type {\n",
       "        vertical-align: middle;\n",
       "    }\n",
       "\n",
       "    .dataframe tbody tr th {\n",
       "        vertical-align: top;\n",
       "    }\n",
       "\n",
       "    .dataframe thead th {\n",
       "        text-align: right;\n",
       "    }\n",
       "</style>\n",
       "<table border=\"1\" class=\"dataframe\">\n",
       "  <thead>\n",
       "    <tr style=\"text-align: right;\">\n",
       "      <th></th>\n",
       "      <th>order_id</th>\n",
       "      <th>customer_id</th>\n",
       "      <th>restaurant_name</th>\n",
       "      <th>cuisine_type</th>\n",
       "      <th>cost_of_the_order</th>\n",
       "      <th>day_of_the_week</th>\n",
       "      <th>rating</th>\n",
       "      <th>food_preparation_time</th>\n",
       "      <th>delivery_time</th>\n",
       "    </tr>\n",
       "  </thead>\n",
       "  <tbody>\n",
       "    <tr>\n",
       "      <th>0</th>\n",
       "      <td>1477147</td>\n",
       "      <td>337525</td>\n",
       "      <td>Hangawi</td>\n",
       "      <td>Korean</td>\n",
       "      <td>30.75</td>\n",
       "      <td>Weekend</td>\n",
       "      <td>Not given</td>\n",
       "      <td>25</td>\n",
       "      <td>20</td>\n",
       "    </tr>\n",
       "    <tr>\n",
       "      <th>1</th>\n",
       "      <td>1477685</td>\n",
       "      <td>358141</td>\n",
       "      <td>Blue Ribbon Sushi Izakaya</td>\n",
       "      <td>Japanese</td>\n",
       "      <td>12.08</td>\n",
       "      <td>Weekend</td>\n",
       "      <td>Not given</td>\n",
       "      <td>25</td>\n",
       "      <td>23</td>\n",
       "    </tr>\n",
       "    <tr>\n",
       "      <th>2</th>\n",
       "      <td>1477070</td>\n",
       "      <td>66393</td>\n",
       "      <td>Cafe Habana</td>\n",
       "      <td>Mexican</td>\n",
       "      <td>12.23</td>\n",
       "      <td>Weekday</td>\n",
       "      <td>5</td>\n",
       "      <td>23</td>\n",
       "      <td>28</td>\n",
       "    </tr>\n",
       "    <tr>\n",
       "      <th>3</th>\n",
       "      <td>1477334</td>\n",
       "      <td>106968</td>\n",
       "      <td>Blue Ribbon Fried Chicken</td>\n",
       "      <td>American</td>\n",
       "      <td>29.20</td>\n",
       "      <td>Weekend</td>\n",
       "      <td>3</td>\n",
       "      <td>25</td>\n",
       "      <td>15</td>\n",
       "    </tr>\n",
       "    <tr>\n",
       "      <th>4</th>\n",
       "      <td>1478249</td>\n",
       "      <td>76942</td>\n",
       "      <td>Dirty Bird to Go</td>\n",
       "      <td>American</td>\n",
       "      <td>11.59</td>\n",
       "      <td>Weekday</td>\n",
       "      <td>4</td>\n",
       "      <td>25</td>\n",
       "      <td>24</td>\n",
       "    </tr>\n",
       "  </tbody>\n",
       "</table>\n",
       "</div>"
      ],
      "text/plain": [
       "   order_id  customer_id            restaurant_name cuisine_type  \\\n",
       "0   1477147       337525                    Hangawi       Korean   \n",
       "1   1477685       358141  Blue Ribbon Sushi Izakaya     Japanese   \n",
       "2   1477070        66393                Cafe Habana      Mexican   \n",
       "3   1477334       106968  Blue Ribbon Fried Chicken     American   \n",
       "4   1478249        76942           Dirty Bird to Go     American   \n",
       "\n",
       "   cost_of_the_order day_of_the_week     rating  food_preparation_time  \\\n",
       "0              30.75         Weekend  Not given                     25   \n",
       "1              12.08         Weekend  Not given                     25   \n",
       "2              12.23         Weekday          5                     23   \n",
       "3              29.20         Weekend          3                     25   \n",
       "4              11.59         Weekday          4                     25   \n",
       "\n",
       "   delivery_time  \n",
       "0             20  \n",
       "1             23  \n",
       "2             28  \n",
       "3             15  \n",
       "4             24  "
      ]
     },
     "execution_count": 3,
     "metadata": {},
     "output_type": "execute_result"
    }
   ],
   "source": [
    "# Read the data\n",
    "df = pd.read_csv('C:\\\\Users\\\\Vedalie Goudou\\\\Desktop\\\\Applied Data Science\\\\Project 1\\\\foodhub_order.csv')\n",
    "# Returns the first 5 rows\n",
    "df.head() "
   ]
  },
  {
   "cell_type": "markdown",
   "id": "4fb37755",
   "metadata": {},
   "source": [
    "Question 1: How many rows and columns are present in the data? [0.5 mark]"
   ]
  },
  {
   "cell_type": "code",
   "execution_count": 6,
   "id": "9d6370b7",
   "metadata": {},
   "outputs": [
    {
     "name": "stdout",
     "output_type": "stream",
     "text": [
      "Number of lines: 1898\n",
      "Number of columns: 9\n"
     ]
    }
   ],
   "source": [
    "# Get number of rows and columns\n",
    "number_lines = df.shape[0]\n",
    "number_columns = df.shape[1]\n",
    "\n",
    "# Show the results\n",
    "print(\"Number of lines:\", number_lines)\n",
    "print(\"Number of columns:\", number_columns)"
   ]
  },
  {
   "cell_type": "markdown",
   "id": "bb99b5d2",
   "metadata": {},
   "source": [
    "Observation : The data set has 1898 lines and 9 columns."
   ]
  },
  {
   "cell_type": "markdown",
   "id": "b98a02c8",
   "metadata": {},
   "source": [
    "Question 2: What are the datatypes of the different columns in the dataset? [0.5 mark]¶"
   ]
  },
  {
   "cell_type": "code",
   "execution_count": 8,
   "id": "a84c001e",
   "metadata": {},
   "outputs": [
    {
     "name": "stdout",
     "output_type": "stream",
     "text": [
      "<class 'pandas.core.frame.DataFrame'>\n",
      "RangeIndex: 1898 entries, 0 to 1897\n",
      "Data columns (total 9 columns):\n",
      " #   Column                 Non-Null Count  Dtype  \n",
      "---  ------                 --------------  -----  \n",
      " 0   order_id               1898 non-null   int64  \n",
      " 1   customer_id            1898 non-null   int64  \n",
      " 2   restaurant_name        1898 non-null   object \n",
      " 3   cuisine_type           1898 non-null   object \n",
      " 4   cost_of_the_order      1898 non-null   float64\n",
      " 5   day_of_the_week        1898 non-null   object \n",
      " 6   rating                 1898 non-null   object \n",
      " 7   food_preparation_time  1898 non-null   int64  \n",
      " 8   delivery_time          1898 non-null   int64  \n",
      "dtypes: float64(1), int64(4), object(4)\n",
      "memory usage: 133.6+ KB\n"
     ]
    }
   ],
   "source": [
    "# The datatypes of the different columns in the dataset\n",
    "df.info()"
   ]
  },
  {
   "cell_type": "markdown",
   "id": "ee5e25f8",
   "metadata": {},
   "source": [
    "Observation : We have three datatypes in the dataset : int64; object; float64"
   ]
  },
  {
   "cell_type": "markdown",
   "id": "2d822a3e",
   "metadata": {},
   "source": [
    "Question 3: Are there any missing values in the data? If yes, treat them using an appropriate method. [1 Mark]"
   ]
  },
  {
   "cell_type": "code",
   "execution_count": 97,
   "id": "c175140b",
   "metadata": {},
   "outputs": [
    {
     "data": {
      "text/plain": [
       "order_id                 0\n",
       "customer_id              0\n",
       "restaurant_name          0\n",
       "cuisine_type             0\n",
       "cost_of_the_order        0\n",
       "day_of_the_week          0\n",
       "rating                   0\n",
       "food_preparation_time    0\n",
       "delivery_time            0\n",
       "Revenue                  0\n",
       "total_time               0\n",
       "dtype: int64"
      ]
     },
     "execution_count": 97,
     "metadata": {},
     "output_type": "execute_result"
    }
   ],
   "source": [
    "df.isnull().sum()"
   ]
  },
  {
   "cell_type": "markdown",
   "id": "b6d69f6e",
   "metadata": {},
   "source": [
    "Observation : In the dataset we don't have missing value"
   ]
  },
  {
   "cell_type": "markdown",
   "id": "facf6932",
   "metadata": {},
   "source": [
    "Question 4: Check the statistical summary of the data. What is the minimum, average, and maximum time it takes for food to be prepared once an order is placed? [2 marks]¶"
   ]
  },
  {
   "cell_type": "code",
   "execution_count": 22,
   "id": "d5e49496",
   "metadata": {},
   "outputs": [
    {
     "data": {
      "text/html": [
       "<div>\n",
       "<style scoped>\n",
       "    .dataframe tbody tr th:only-of-type {\n",
       "        vertical-align: middle;\n",
       "    }\n",
       "\n",
       "    .dataframe tbody tr th {\n",
       "        vertical-align: top;\n",
       "    }\n",
       "\n",
       "    .dataframe thead th {\n",
       "        text-align: right;\n",
       "    }\n",
       "</style>\n",
       "<table border=\"1\" class=\"dataframe\">\n",
       "  <thead>\n",
       "    <tr style=\"text-align: right;\">\n",
       "      <th></th>\n",
       "      <th>order_id</th>\n",
       "      <th>customer_id</th>\n",
       "      <th>cost_of_the_order</th>\n",
       "      <th>food_preparation_time</th>\n",
       "      <th>delivery_time</th>\n",
       "    </tr>\n",
       "  </thead>\n",
       "  <tbody>\n",
       "    <tr>\n",
       "      <th>count</th>\n",
       "      <td>1.898000e+03</td>\n",
       "      <td>1898.000000</td>\n",
       "      <td>1898.000000</td>\n",
       "      <td>1898.000000</td>\n",
       "      <td>1898.000000</td>\n",
       "    </tr>\n",
       "    <tr>\n",
       "      <th>mean</th>\n",
       "      <td>1.477496e+06</td>\n",
       "      <td>171168.478398</td>\n",
       "      <td>16.498851</td>\n",
       "      <td>27.371970</td>\n",
       "      <td>24.161749</td>\n",
       "    </tr>\n",
       "    <tr>\n",
       "      <th>std</th>\n",
       "      <td>5.480497e+02</td>\n",
       "      <td>113698.139743</td>\n",
       "      <td>7.483812</td>\n",
       "      <td>4.632481</td>\n",
       "      <td>4.972637</td>\n",
       "    </tr>\n",
       "    <tr>\n",
       "      <th>min</th>\n",
       "      <td>1.476547e+06</td>\n",
       "      <td>1311.000000</td>\n",
       "      <td>4.470000</td>\n",
       "      <td>20.000000</td>\n",
       "      <td>15.000000</td>\n",
       "    </tr>\n",
       "    <tr>\n",
       "      <th>25%</th>\n",
       "      <td>1.477021e+06</td>\n",
       "      <td>77787.750000</td>\n",
       "      <td>12.080000</td>\n",
       "      <td>23.000000</td>\n",
       "      <td>20.000000</td>\n",
       "    </tr>\n",
       "    <tr>\n",
       "      <th>50%</th>\n",
       "      <td>1.477496e+06</td>\n",
       "      <td>128600.000000</td>\n",
       "      <td>14.140000</td>\n",
       "      <td>27.000000</td>\n",
       "      <td>25.000000</td>\n",
       "    </tr>\n",
       "    <tr>\n",
       "      <th>75%</th>\n",
       "      <td>1.477970e+06</td>\n",
       "      <td>270525.000000</td>\n",
       "      <td>22.297500</td>\n",
       "      <td>31.000000</td>\n",
       "      <td>28.000000</td>\n",
       "    </tr>\n",
       "    <tr>\n",
       "      <th>max</th>\n",
       "      <td>1.478444e+06</td>\n",
       "      <td>405334.000000</td>\n",
       "      <td>35.410000</td>\n",
       "      <td>35.000000</td>\n",
       "      <td>33.000000</td>\n",
       "    </tr>\n",
       "  </tbody>\n",
       "</table>\n",
       "</div>"
      ],
      "text/plain": [
       "           order_id    customer_id  cost_of_the_order  food_preparation_time  \\\n",
       "count  1.898000e+03    1898.000000        1898.000000            1898.000000   \n",
       "mean   1.477496e+06  171168.478398          16.498851              27.371970   \n",
       "std    5.480497e+02  113698.139743           7.483812               4.632481   \n",
       "min    1.476547e+06    1311.000000           4.470000              20.000000   \n",
       "25%    1.477021e+06   77787.750000          12.080000              23.000000   \n",
       "50%    1.477496e+06  128600.000000          14.140000              27.000000   \n",
       "75%    1.477970e+06  270525.000000          22.297500              31.000000   \n",
       "max    1.478444e+06  405334.000000          35.410000              35.000000   \n",
       "\n",
       "       delivery_time  \n",
       "count    1898.000000  \n",
       "mean       24.161749  \n",
       "std         4.972637  \n",
       "min        15.000000  \n",
       "25%        20.000000  \n",
       "50%        25.000000  \n",
       "75%        28.000000  \n",
       "max        33.000000  "
      ]
     },
     "execution_count": 22,
     "metadata": {},
     "output_type": "execute_result"
    }
   ],
   "source": [
    "df.describe()"
   ]
  },
  {
   "cell_type": "markdown",
   "id": "d862f595",
   "metadata": {},
   "source": [
    "Observation : Once is an order is placed, the mininum, average and maximun time it takes for food to be prepared are : min=20 mns; max=35 mns, mean=27,371970 mns"
   ]
  },
  {
   "cell_type": "markdown",
   "id": "e6ef56bb",
   "metadata": {},
   "source": [
    "Question 5: How many orders are not rated? [1 mark]"
   ]
  },
  {
   "cell_type": "code",
   "execution_count": 23,
   "id": "c7296c96",
   "metadata": {},
   "outputs": [
    {
     "data": {
      "text/plain": [
       "Not given    736\n",
       "5            588\n",
       "4            386\n",
       "3            188\n",
       "Name: rating, dtype: int64"
      ]
     },
     "execution_count": 23,
     "metadata": {},
     "output_type": "execute_result"
    }
   ],
   "source": [
    "df['rating'].value_counts()"
   ]
  },
  {
   "cell_type": "markdown",
   "id": "790110a6",
   "metadata": {},
   "source": [
    "Exploratory Data Analysis (EDA)"
   ]
  },
  {
   "cell_type": "markdown",
   "id": "2e9fec75",
   "metadata": {},
   "source": [
    "Univariate Analysis"
   ]
  },
  {
   "cell_type": "markdown",
   "id": "26287dc5",
   "metadata": {},
   "source": [
    "Question 6: Explore all the variables and provide observations on their distributions. (Generally, histograms, boxplots, countplots, etc. are used for univariate exploration.) [9 marks]"
   ]
  },
  {
   "cell_type": "markdown",
   "id": "1d90168e",
   "metadata": {},
   "source": [
    "Order ID"
   ]
  },
  {
   "cell_type": "code",
   "execution_count": 24,
   "id": "ff68403a",
   "metadata": {},
   "outputs": [
    {
     "data": {
      "text/plain": [
       "1898"
      ]
     },
     "execution_count": 24,
     "metadata": {},
     "output_type": "execute_result"
    }
   ],
   "source": [
    "# check unique order ID\n",
    "df['order_id'].nunique()  "
   ]
  },
  {
   "cell_type": "markdown",
   "id": "5ff0def8",
   "metadata": {},
   "source": [
    "Customer ID"
   ]
  },
  {
   "cell_type": "code",
   "execution_count": 25,
   "id": "2505c1cd",
   "metadata": {},
   "outputs": [
    {
     "data": {
      "text/plain": [
       "1200"
      ]
     },
     "execution_count": 25,
     "metadata": {},
     "output_type": "execute_result"
    }
   ],
   "source": [
    "# check unique customer ID\n",
    "df['customer_id'].nunique()"
   ]
  },
  {
   "cell_type": "markdown",
   "id": "96d8e3ad",
   "metadata": {},
   "source": [
    "Restaurant name"
   ]
  },
  {
   "cell_type": "code",
   "execution_count": 26,
   "id": "1e688e1f",
   "metadata": {},
   "outputs": [
    {
     "data": {
      "text/plain": [
       "178"
      ]
     },
     "execution_count": 26,
     "metadata": {},
     "output_type": "execute_result"
    }
   ],
   "source": [
    "# check unique Restaurant Name\n",
    "df['restaurant_name'].nunique()"
   ]
  },
  {
   "cell_type": "markdown",
   "id": "c3d47607",
   "metadata": {},
   "source": [
    "Cuisine type"
   ]
  },
  {
   "cell_type": "code",
   "execution_count": 27,
   "id": "751c97bc",
   "metadata": {},
   "outputs": [
    {
     "data": {
      "text/plain": [
       "14"
      ]
     },
     "execution_count": 27,
     "metadata": {},
     "output_type": "execute_result"
    }
   ],
   "source": [
    "# Check unique cuisine type\n",
    "df['cuisine_type'].nunique()"
   ]
  },
  {
   "cell_type": "code",
   "execution_count": 28,
   "id": "b1eedc2c",
   "metadata": {},
   "outputs": [
    {
     "data": {
      "text/plain": [
       "<AxesSubplot:xlabel='cuisine_type', ylabel='count'>"
      ]
     },
     "execution_count": 28,
     "metadata": {},
     "output_type": "execute_result"
    },
    {
     "data": {
      "image/png": "[encoded data removed]",
      "text/plain": [
       "<Figure size 1080x360 with 1 Axes>"
      ]
     },
     "metadata": {
      "needs_background": "light"
     },
     "output_type": "display_data"
    }
   ],
   "source": [
    "plt.figure(figsize = (15,5))\n",
    "sns.countplot(data = df, x = 'cuisine_type') "
   ]
  },
  {
   "cell_type": "markdown",
   "id": "83c192c9",
   "metadata": {},
   "source": [
    "Cost of the order"
   ]
  },
  {
   "cell_type": "code",
   "execution_count": 104,
   "id": "49ea3d88",
   "metadata": {},
   "outputs": [
    {
     "data": {
      "image/png": "[encoded data removed]",
      "text/plain": [
       "<Figure size 432x288 with 1 Axes>"
      ]
     },
     "metadata": {
      "needs_background": "light"
     },
     "output_type": "display_data"
    }
   ],
   "source": [
    "# Histogram for the cost of order\n",
    "sns.histplot(data=df,x='cost_of_the_order') \n",
    "plt.show()\n",
    " "
   ]
  },
  {
   "cell_type": "code",
   "execution_count": 105,
   "id": "5755846b",
   "metadata": {},
   "outputs": [
    {
     "data": {
      "image/png": "[encoded data removed]",
      "text/plain": [
       "<Figure size 432x288 with 1 Axes>"
      ]
     },
     "metadata": {
      "needs_background": "light"
     },
     "output_type": "display_data"
    }
   ],
   "source": [
    "# Boxplot for the cost of order\n",
    "sns.boxplot(data=df,x='cost_of_the_order') \n",
    "plt.show()"
   ]
  },
  {
   "cell_type": "markdown",
   "id": "ff070b0a",
   "metadata": {},
   "source": [
    "Day of the week"
   ]
  },
  {
   "cell_type": "code",
   "execution_count": 30,
   "id": "b1910725",
   "metadata": {},
   "outputs": [
    {
     "data": {
      "text/plain": [
       "2"
      ]
     },
     "execution_count": 30,
     "metadata": {},
     "output_type": "execute_result"
    }
   ],
   "source": [
    "# # Check the unique values\n",
    "df['day_of_the_week'].nunique()"
   ]
  },
  {
   "cell_type": "code",
   "execution_count": 31,
   "id": "4adc6834",
   "metadata": {},
   "outputs": [
    {
     "data": {
      "text/plain": [
       "<AxesSubplot:xlabel='day_of_the_week', ylabel='count'>"
      ]
     },
     "execution_count": 31,
     "metadata": {},
     "output_type": "execute_result"
    },
    {
     "data": {
      "image/png": "[encoded data removed]",
      "text/plain": [
       "<Figure size 432x288 with 1 Axes>"
      ]
     },
     "metadata": {
      "needs_background": "light"
     },
     "output_type": "display_data"
    }
   ],
   "source": [
    "sns.countplot(data = df, x = 'day_of_the_week') "
   ]
  },
  {
   "cell_type": "markdown",
   "id": "463ff3bb",
   "metadata": {},
   "source": [
    "Rating"
   ]
  },
  {
   "cell_type": "code",
   "execution_count": 32,
   "id": "b829429c",
   "metadata": {},
   "outputs": [
    {
     "data": {
      "text/plain": [
       "4"
      ]
     },
     "execution_count": 32,
     "metadata": {},
     "output_type": "execute_result"
    }
   ],
   "source": [
    "# Check the unique values\n",
    "df['rating'].nunique()"
   ]
  },
  {
   "cell_type": "code",
   "execution_count": 33,
   "id": "b3704f0f",
   "metadata": {},
   "outputs": [
    {
     "data": {
      "text/plain": [
       "<AxesSubplot:xlabel='rating', ylabel='count'>"
      ]
     },
     "execution_count": 33,
     "metadata": {},
     "output_type": "execute_result"
    },
    {
     "data": {
      "image/png": "[encoded data removed]",
      "text/plain": [
       "<Figure size 432x288 with 1 Axes>"
      ]
     },
     "metadata": {
      "needs_background": "light"
     },
     "output_type": "display_data"
    }
   ],
   "source": [
    "sns.countplot(data = df, x = 'rating') "
   ]
  },
  {
   "cell_type": "markdown",
   "id": "708652a4",
   "metadata": {},
   "source": [
    "Food Preparation time"
   ]
  },
  {
   "cell_type": "code",
   "execution_count": 98,
   "id": "744e3322",
   "metadata": {},
   "outputs": [
    {
     "data": {
      "image/png": "[encoded data removed]",
      "text/plain": [
       "<Figure size 432x288 with 1 Axes>"
      ]
     },
     "metadata": {
      "needs_background": "light"
     },
     "output_type": "display_data"
    }
   ],
   "source": [
    "sns.histplot(data=df,x='food_preparation_time')\n",
    "plt.show()\n"
   ]
  },
  {
   "cell_type": "code",
   "execution_count": 99,
   "id": "f1fa827c",
   "metadata": {},
   "outputs": [
    {
     "data": {
      "image/png": "[encoded data removed]",
      "text/plain": [
       "<Figure size 432x288 with 1 Axes>"
      ]
     },
     "metadata": {
      "needs_background": "light"
     },
     "output_type": "display_data"
    }
   ],
   "source": [
    "sns.boxplot(data=df,x='food_preparation_time') \n",
    "plt.show()"
   ]
  },
  {
   "cell_type": "markdown",
   "id": "7eb4cd6e",
   "metadata": {},
   "source": [
    "Delivery time"
   ]
  },
  {
   "cell_type": "code",
   "execution_count": 100,
   "id": "6c945ca7",
   "metadata": {},
   "outputs": [
    {
     "data": {
      "image/png": "[encoded data removed]",
      "text/plain": [
       "<Figure size 432x288 with 1 Axes>"
      ]
     },
     "metadata": {
      "needs_background": "light"
     },
     "output_type": "display_data"
    }
   ],
   "source": [
    "sns.histplot(data=df,x='delivery_time')\n",
    "plt.show()\n"
   ]
  },
  {
   "cell_type": "code",
   "execution_count": 101,
   "id": "45b0706a",
   "metadata": {},
   "outputs": [
    {
     "data": {
      "image/png": "[encoded data removed]",
      "text/plain": [
       "<Figure size 432x288 with 1 Axes>"
      ]
     },
     "metadata": {
      "needs_background": "light"
     },
     "output_type": "display_data"
    }
   ],
   "source": [
    "sns.boxplot(data=df,x='delivery_time')  \n",
    "plt.show()"
   ]
  },
  {
   "cell_type": "markdown",
   "id": "62459241",
   "metadata": {},
   "source": [
    "Question 7: Which are the top 5 restaurants in terms of the number of orders received? [1 mark]"
   ]
  },
  {
   "cell_type": "code",
   "execution_count": 38,
   "id": "97bdfcad",
   "metadata": {},
   "outputs": [
    {
     "data": {
      "text/plain": [
       "Shake Shack                  219\n",
       "The Meatball Shop            132\n",
       "Blue Ribbon Sushi            119\n",
       "Blue Ribbon Fried Chicken     96\n",
       "Parm                          68\n",
       "Name: restaurant_name, dtype: int64"
      ]
     },
     "execution_count": 38,
     "metadata": {},
     "output_type": "execute_result"
    }
   ],
   "source": [
    "# Get top 5 restaurants with highest number of orders\n",
    "df['restaurant_name'].value_counts().head(5)"
   ]
  },
  {
   "cell_type": "markdown",
   "id": "a5278cfb",
   "metadata": {},
   "source": [
    "Observation : Shake Shack, The meatball shop, Blue ribbon sushi, Blue Ribbon Fried Chicken, Parm are the top 5 restaurants with highest number of orders."
   ]
  },
  {
   "cell_type": "markdown",
   "id": "a4f65801",
   "metadata": {},
   "source": [
    "Question 8: Which is the most popular cuisine on weekends? [1 mark]"
   ]
  },
  {
   "cell_type": "code",
   "execution_count": 126,
   "id": "665640be",
   "metadata": {},
   "outputs": [
    {
     "name": "stdout",
     "output_type": "stream",
     "text": [
      "The most popular cuisine on weekends is: American\n"
     ]
    }
   ],
   "source": [
    "df_weekend = df[df['day_of_the_week'] == 'Weekend']\n",
    "most_popular_cuisine = df_weekend['cuisine_type'].value_counts().idxmax()\n",
    "print('The most popular cuisine on weekends is:', most_popular_cuisine)"
   ]
  },
  {
   "cell_type": "markdown",
   "id": "b801b5b4",
   "metadata": {},
   "source": [
    "Observation : American is the most popular cuisine on weekends"
   ]
  },
  {
   "cell_type": "markdown",
   "id": "cf4c85d6",
   "metadata": {},
   "source": [
    "Question 9: What percentage of the orders cost more than 20 dollars? [2 marks]"
   ]
  },
  {
   "cell_type": "code",
   "execution_count": 127,
   "id": "c088fdef",
   "metadata": {},
   "outputs": [
    {
     "name": "stdout",
     "output_type": "stream",
     "text": [
      "The number of total orders that cost above 20 dollars is: 555\n"
     ]
    }
   ],
   "source": [
    "# Get orders that cost above 20 dollars\n",
    "df_greater_than_20 = df[df['cost_of_the_order']>20] \n",
    "\n",
    "# Calculate the number of total orders where the cost is above 20 dollars\n",
    "print('The number of total orders that cost above 20 dollars is:', df_greater_than_20.shape[0])\n",
    "\n"
   ]
  },
  {
   "cell_type": "markdown",
   "id": "acbea408",
   "metadata": {},
   "source": [
    "Observation: 555 orders cost more than 20 dollars."
   ]
  },
  {
   "cell_type": "code",
   "execution_count": 129,
   "id": "f3864014",
   "metadata": {},
   "outputs": [
    {
     "name": "stdout",
     "output_type": "stream",
     "text": [
      "Percentage of orders above 20 dollars: 29.24 %\n"
     ]
    }
   ],
   "source": [
    "# Calculate percentage of such orders in the dataset\n",
    "percentage = (df_greater_than_20.shape[0] / df.shape[0]) * 100\n",
    "\n",
    "print(\"Percentage of orders above 20 dollars:\", round(percentage, 2), '%')"
   ]
  },
  {
   "cell_type": "markdown",
   "id": "6316d3ee",
   "metadata": {},
   "source": [
    "Observation : 29,24% of orders cost more than 20 dollars"
   ]
  },
  {
   "cell_type": "markdown",
   "id": "23e2f776",
   "metadata": {},
   "source": [
    "Question 10: What is the mean order delivery time? [1 mark]"
   ]
  },
  {
   "cell_type": "code",
   "execution_count": 43,
   "id": "682afe8a",
   "metadata": {},
   "outputs": [
    {
     "name": "stdout",
     "output_type": "stream",
     "text": [
      "The mean delivery time for this dataset is 24.16 minutes\n"
     ]
    }
   ],
   "source": [
    "# Get the mean delivery time\n",
    "mean_del_time = df['delivery_time'].mean()  \n",
    "\n",
    "print('The mean delivery time for this dataset is', round(mean_del_time, 2), 'minutes')"
   ]
  },
  {
   "cell_type": "markdown",
   "id": "a3733b9c",
   "metadata": {},
   "source": [
    "Observation : Average delivery time is 24.16 minutes"
   ]
  },
  {
   "cell_type": "markdown",
   "id": "6822b77d",
   "metadata": {},
   "source": [
    "Question 11: The company has decided to give 20% discount vouchers to the top 3 most frequent customers. Find the IDs of these customers and the number of orders they placed. [1 mark]"
   ]
  },
  {
   "cell_type": "code",
   "execution_count": 44,
   "id": "37e881d4",
   "metadata": {},
   "outputs": [
    {
     "data": {
      "text/plain": [
       "52832    13\n",
       "47440    10\n",
       "83287     9\n",
       "Name: customer_id, dtype: int64"
      ]
     },
     "execution_count": 44,
     "metadata": {},
     "output_type": "execute_result"
    }
   ],
   "source": [
    "# Get the counts of each customer_id\n",
    "df['customer_id'].value_counts().head(3)  "
   ]
  },
  {
   "cell_type": "markdown",
   "id": "e6f877f2",
   "metadata": {},
   "source": [
    "Observation : The customers with the id : 52832, 47440, 83287 are the most frequent customers"
   ]
  },
  {
   "cell_type": "markdown",
   "id": "fffb4920",
   "metadata": {},
   "source": [
    "Multivariate Analysis"
   ]
  },
  {
   "cell_type": "markdown",
   "id": "4c600e92",
   "metadata": {},
   "source": [
    "Question 12: Perform a multivariate analysis to explore relationships between the important variables in the dataset. (It is a good idea to explore relations between numerical variables as well as relations between numerical and categorical variables) [10 marks]¶"
   ]
  },
  {
   "cell_type": "markdown",
   "id": "1819f62e",
   "metadata": {},
   "source": [
    "Cuisine vs Cost of the order"
   ]
  },
  {
   "cell_type": "code",
   "execution_count": 45,
   "id": "8340d616",
   "metadata": {},
   "outputs": [
    {
     "data": {
      "image/png": "[encoded data removed]",
      "text/plain": [
       "<Figure size 1080x504 with 1 Axes>"
      ]
     },
     "metadata": {
      "needs_background": "light"
     },
     "output_type": "display_data"
    }
   ],
   "source": [
    "# Relationship between cost of the order and cuisine type\n",
    "plt.figure(figsize=(15,7))\n",
    "sns.boxplot(x = \"cuisine_type\", y = \"cost_of_the_order\", data = df, palette = 'PuBu')\n",
    "plt.xticks(rotation = 60)\n",
    "plt.show()"
   ]
  },
  {
   "cell_type": "markdown",
   "id": "b3564748",
   "metadata": {},
   "source": [
    "Cuisine vs Food Preparation time"
   ]
  },
  {
   "cell_type": "code",
   "execution_count": 53,
   "id": "3ab7f058",
   "metadata": {},
   "outputs": [
    {
     "data": {
      "image/png": "[encoded data removed]",
      "text/plain": [
       "<Figure size 1080x504 with 1 Axes>"
      ]
     },
     "metadata": {
      "needs_background": "light"
     },
     "output_type": "display_data"
    }
   ],
   "source": [
    "# Relationship between food preparation time and cuisine type\n",
    "plt.figure(figsize=(15,7))\n",
    "sns.boxplot(x = \"cuisine_type\", y = \"food_preparation_time\", data = df, palette = 'PuBu') \n",
    "plt.xticks(rotation = 60)\n",
    "plt.show()"
   ]
  },
  {
   "cell_type": "markdown",
   "id": "ba9eec56",
   "metadata": {},
   "source": [
    "Day of the Week vs Delivery time"
   ]
  },
  {
   "cell_type": "code",
   "execution_count": 55,
   "id": "2ed44b11",
   "metadata": {},
   "outputs": [
    {
     "data": {
      "image/png": "[encoded data removed]",
      "text/plain": [
       "<Figure size 1080x504 with 1 Axes>"
      ]
     },
     "metadata": {
      "needs_background": "light"
     },
     "output_type": "display_data"
    }
   ],
   "source": [
    "# Relationship between day of the week and delivery time\n",
    "plt.figure(figsize=(15,7))\n",
    "sns.boxplot(x = \"day_of_the_week\", y = \"delivery_time\", data = df, palette = 'PuBu')  \n",
    "plt.show()"
   ]
  },
  {
   "cell_type": "markdown",
   "id": "00ad2139",
   "metadata": {},
   "source": [
    "Run the below code and write your observations on the revenue generated by the restaurants."
   ]
  },
  {
   "cell_type": "code",
   "execution_count": 56,
   "id": "c594eda4",
   "metadata": {},
   "outputs": [
    {
     "data": {
      "text/plain": [
       "restaurant_name\n",
       "Shake Shack                      3579.53\n",
       "The Meatball Shop                2145.21\n",
       "Blue Ribbon Sushi                1903.95\n",
       "Blue Ribbon Fried Chicken        1662.29\n",
       "Parm                             1112.76\n",
       "RedFarm Broadway                  965.13\n",
       "RedFarm Hudson                    921.21\n",
       "TAO                               834.50\n",
       "Han Dynasty                       755.29\n",
       "Blue Ribbon Sushi Bar & Grill     666.62\n",
       "Rubirosa                          660.45\n",
       "Sushi of Gari 46                  640.87\n",
       "Nobu Next Door                    623.67\n",
       "Five Guys Burgers and Fries       506.47\n",
       "Name: cost_of_the_order, dtype: float64"
      ]
     },
     "execution_count": 56,
     "metadata": {},
     "output_type": "execute_result"
    }
   ],
   "source": [
    "df.groupby(['restaurant_name'])['cost_of_the_order'].sum().sort_values(ascending = False).head(14)"
   ]
  },
  {
   "cell_type": "markdown",
   "id": "4da4c770",
   "metadata": {},
   "source": [
    "Rating vs Delivery time"
   ]
  },
  {
   "cell_type": "code",
   "execution_count": 112,
   "id": "326217a9",
   "metadata": {},
   "outputs": [
    {
     "data": {
      "image/png": "[encoded data removed]",
      "text/plain": [
       "<Figure size 1080x504 with 1 Axes>"
      ]
     },
     "metadata": {
      "needs_background": "light"
     },
     "output_type": "display_data"
    }
   ],
   "source": [
    "# Relationship between rating and delivery time\n",
    "plt.figure(figsize=(15, 7))\n",
    "sns.barplot(x = 'rating', y = 'delivery_time', data = df)\n",
    "plt.show()"
   ]
  },
  {
   "cell_type": "code",
   "execution_count": 113,
   "id": "1dbe3f0e",
   "metadata": {},
   "outputs": [
    {
     "data": {
      "image/png": "[encoded data removed]",
      "text/plain": [
       "<Figure size 1080x504 with 1 Axes>"
      ]
     },
     "metadata": {
      "needs_background": "light"
     },
     "output_type": "display_data"
    }
   ],
   "source": [
    "# Relationship between rating and delivery time\n",
    "plt.figure(figsize=(15, 7))\n",
    "sns.boxplot(x = 'rating', y = 'delivery_time', data = df)\n",
    "plt.show()"
   ]
  },
  {
   "cell_type": "markdown",
   "id": "9b3d2af6",
   "metadata": {},
   "source": [
    "Rating vs Food preparation time"
   ]
  },
  {
   "cell_type": "code",
   "execution_count": 107,
   "id": "9f143ae1",
   "metadata": {},
   "outputs": [
    {
     "data": {
      "image/png": "[encoded data removed]",
      "text/plain": [
       "<Figure size 1080x504 with 1 Axes>"
      ]
     },
     "metadata": {
      "needs_background": "light"
     },
     "output_type": "display_data"
    }
   ],
   "source": [
    "# Relationship between rating and food preparation time\n",
    "plt.figure(figsize=(15, 7))\n",
    "sns.barplot(x = 'rating', y = 'food_preparation_time', data = df)  \n",
    "plt.show()"
   ]
  },
  {
   "cell_type": "code",
   "execution_count": 108,
   "id": "f88af66e",
   "metadata": {},
   "outputs": [
    {
     "data": {
      "image/png": "[encoded data removed]",
      "text/plain": [
       "<Figure size 1080x504 with 1 Axes>"
      ]
     },
     "metadata": {
      "needs_background": "light"
     },
     "output_type": "display_data"
    }
   ],
   "source": [
    "# Relationship between rating and food preparation time\n",
    "plt.figure(figsize=(15, 7))\n",
    "sns.boxplot(x = 'rating', y = 'food_preparation_time', data = df)  \n",
    "plt.show()"
   ]
  },
  {
   "cell_type": "code",
   "execution_count": 109,
   "id": "183ee636",
   "metadata": {},
   "outputs": [
    {
     "data": {
      "image/png": "[encoded data removed]",
      "text/plain": [
       "<Figure size 1080x504 with 1 Axes>"
      ]
     },
     "metadata": {
      "needs_background": "light"
     },
     "output_type": "display_data"
    }
   ],
   "source": [
    "# Relationship between rating and food preparation time\n",
    "plt.figure(figsize=(15, 7))\n",
    "sns.pointplot(x = 'rating', y = 'food_preparation_time', data = df)  \n",
    "plt.show()"
   ]
  },
  {
   "cell_type": "markdown",
   "id": "09748e17",
   "metadata": {},
   "source": [
    "Rating vs Cost of the order"
   ]
  },
  {
   "cell_type": "code",
   "execution_count": 114,
   "id": "c22a00e2",
   "metadata": {},
   "outputs": [
    {
     "data": {
      "image/png": "[encoded data removed]",
      "text/plain": [
       "<Figure size 1080x504 with 1 Axes>"
      ]
     },
     "metadata": {
      "needs_background": "light"
     },
     "output_type": "display_data"
    }
   ],
   "source": [
    "# Relationship between rating and cost of the order\n",
    "plt.figure(figsize=(15, 7))\n",
    "sns.barplot(x = 'rating', y = 'cost_of_the_order', data = df)   \n",
    "plt.show()"
   ]
  },
  {
   "cell_type": "code",
   "execution_count": 115,
   "id": "f9b548fd",
   "metadata": {},
   "outputs": [
    {
     "data": {
      "image/png": "[encoded data removed]",
      "text/plain": [
       "<Figure size 1080x504 with 1 Axes>"
      ]
     },
     "metadata": {
      "needs_background": "light"
     },
     "output_type": "display_data"
    }
   ],
   "source": [
    "# Relationship between rating and cost of the order\n",
    "plt.figure(figsize=(15, 7))\n",
    "sns.boxplot(x = 'rating', y = 'cost_of_the_order', data = df)   \n",
    "plt.show()"
   ]
  },
  {
   "cell_type": "markdown",
   "id": "b511fca7",
   "metadata": {},
   "source": [
    "Correlation among variables"
   ]
  },
  {
   "cell_type": "code",
   "execution_count": 60,
   "id": "a8d50fb7",
   "metadata": {},
   "outputs": [
    {
     "data": {
      "image/png": "[encoded data removed]",
      "text/plain": [
       "<Figure size 1080x504 with 2 Axes>"
      ]
     },
     "metadata": {
      "needs_background": "light"
     },
     "output_type": "display_data"
    }
   ],
   "source": [
    "# Plot the heatmap \n",
    "col_list = ['cost_of_the_order', 'food_preparation_time', 'delivery_time']\n",
    "plt.figure(figsize=(15, 7))\n",
    "sns.heatmap(df[col_list].corr(), annot=True, vmin=-1, vmax=1, fmt=\".2f\", cmap=\"Spectral\")\n",
    "plt.show()"
   ]
  },
  {
   "cell_type": "markdown",
   "id": "6ac01a1e",
   "metadata": {},
   "source": [
    "Question 13: The company wants to provide a promotional offer in the advertisement of the restaurants. The condition to get the offer is that the restaurants must have a rating count of more than 50 and the average rating should be greater than 4. Find the restaurants fulfilling the criteria to get the promotional offer. [3 marks]"
   ]
  },
  {
   "cell_type": "code",
   "execution_count": 61,
   "id": "d5747c26",
   "metadata": {},
   "outputs": [
    {
     "data": {
      "text/html": [
       "<div>\n",
       "<style scoped>\n",
       "    .dataframe tbody tr th:only-of-type {\n",
       "        vertical-align: middle;\n",
       "    }\n",
       "\n",
       "    .dataframe tbody tr th {\n",
       "        vertical-align: top;\n",
       "    }\n",
       "\n",
       "    .dataframe thead th {\n",
       "        text-align: right;\n",
       "    }\n",
       "</style>\n",
       "<table border=\"1\" class=\"dataframe\">\n",
       "  <thead>\n",
       "    <tr style=\"text-align: right;\">\n",
       "      <th></th>\n",
       "      <th>restaurant_name</th>\n",
       "      <th>rating</th>\n",
       "    </tr>\n",
       "  </thead>\n",
       "  <tbody>\n",
       "    <tr>\n",
       "      <th>0</th>\n",
       "      <td>Shake Shack</td>\n",
       "      <td>133</td>\n",
       "    </tr>\n",
       "    <tr>\n",
       "      <th>1</th>\n",
       "      <td>The Meatball Shop</td>\n",
       "      <td>84</td>\n",
       "    </tr>\n",
       "    <tr>\n",
       "      <th>2</th>\n",
       "      <td>Blue Ribbon Sushi</td>\n",
       "      <td>73</td>\n",
       "    </tr>\n",
       "    <tr>\n",
       "      <th>3</th>\n",
       "      <td>Blue Ribbon Fried Chicken</td>\n",
       "      <td>64</td>\n",
       "    </tr>\n",
       "    <tr>\n",
       "      <th>4</th>\n",
       "      <td>RedFarm Broadway</td>\n",
       "      <td>41</td>\n",
       "    </tr>\n",
       "  </tbody>\n",
       "</table>\n",
       "</div>"
      ],
      "text/plain": [
       "             restaurant_name  rating\n",
       "0                Shake Shack     133\n",
       "1          The Meatball Shop      84\n",
       "2          Blue Ribbon Sushi      73\n",
       "3  Blue Ribbon Fried Chicken      64\n",
       "4           RedFarm Broadway      41"
      ]
     },
     "execution_count": 61,
     "metadata": {},
     "output_type": "execute_result"
    }
   ],
   "source": [
    "# Filter the rated restaurants\n",
    "df_rated = df[df['rating'] != 'Not given'].copy()\n",
    "\n",
    "# Convert rating column from object to integer\n",
    "df_rated['rating'] = df_rated['rating'].astype('int')  \n",
    "\n",
    "# Create a dataframe that contains the restaurant names with their rating counts\n",
    "df_rating_count = df_rated.groupby(['restaurant_name'])['rating'].count().sort_values(ascending = False).reset_index()\n",
    "df_rating_count.head() "
   ]
  },
  {
   "cell_type": "code",
   "execution_count": 106,
   "id": "156e826a",
   "metadata": {},
   "outputs": [
    {
     "data": {
      "text/html": [
       "<div>\n",
       "<style scoped>\n",
       "    .dataframe tbody tr th:only-of-type {\n",
       "        vertical-align: middle;\n",
       "    }\n",
       "\n",
       "    .dataframe tbody tr th {\n",
       "        vertical-align: top;\n",
       "    }\n",
       "\n",
       "    .dataframe thead th {\n",
       "        text-align: right;\n",
       "    }\n",
       "</style>\n",
       "<table border=\"1\" class=\"dataframe\">\n",
       "  <thead>\n",
       "    <tr style=\"text-align: right;\">\n",
       "      <th></th>\n",
       "      <th>restaurant_name</th>\n",
       "      <th>rating</th>\n",
       "    </tr>\n",
       "  </thead>\n",
       "  <tbody>\n",
       "    <tr>\n",
       "      <th>0</th>\n",
       "      <td>The Meatball Shop</td>\n",
       "      <td>4.511905</td>\n",
       "    </tr>\n",
       "    <tr>\n",
       "      <th>1</th>\n",
       "      <td>Blue Ribbon Fried Chicken</td>\n",
       "      <td>4.328125</td>\n",
       "    </tr>\n",
       "    <tr>\n",
       "      <th>2</th>\n",
       "      <td>Shake Shack</td>\n",
       "      <td>4.278195</td>\n",
       "    </tr>\n",
       "    <tr>\n",
       "      <th>3</th>\n",
       "      <td>Blue Ribbon Sushi</td>\n",
       "      <td>4.219178</td>\n",
       "    </tr>\n",
       "  </tbody>\n",
       "</table>\n",
       "</div>"
      ],
      "text/plain": [
       "             restaurant_name    rating\n",
       "0          The Meatball Shop  4.511905\n",
       "1  Blue Ribbon Fried Chicken  4.328125\n",
       "2                Shake Shack  4.278195\n",
       "3          Blue Ribbon Sushi  4.219178"
      ]
     },
     "execution_count": 106,
     "metadata": {},
     "output_type": "execute_result"
    }
   ],
   "source": [
    "# Get the restaurant names that have rating count more than 50\n",
    "rest_names = df_rating_count.head(4)['restaurant_name'] \n",
    "\n",
    "# Filter to get the data of restaurants that have rating count more than 50\n",
    "df_mean_4 = df_rated[df_rated['restaurant_name'].isin(rest_names)].copy()\n",
    "\n",
    "# Group the restaurant names with their ratings and find the mean rating of each restaurant\n",
    "df_mean_4.groupby(['restaurant_name'])['rating'].mean().sort_values(ascending = False).reset_index().dropna() "
   ]
  },
  {
   "cell_type": "markdown",
   "id": "06954eba",
   "metadata": {},
   "source": [
    "Observation : The meatball shop, Blue Ribbon Fried Chicken, Shake Shack, Blue Ribbon Sushi will get the promotion offer."
   ]
  },
  {
   "cell_type": "markdown",
   "id": "71d6c7cb",
   "metadata": {},
   "source": [
    "Question 14: The company charges the restaurant 25% on the orders having cost greater than 20 dollars and 15% on the orders having cost greater than 5 dollars. Find the net revenue generated by the company across all orders. [3 marks]"
   ]
  },
  {
   "cell_type": "code",
   "execution_count": 64,
   "id": "a814e727",
   "metadata": {},
   "outputs": [
    {
     "data": {
      "text/html": [
       "<div>\n",
       "<style scoped>\n",
       "    .dataframe tbody tr th:only-of-type {\n",
       "        vertical-align: middle;\n",
       "    }\n",
       "\n",
       "    .dataframe tbody tr th {\n",
       "        vertical-align: top;\n",
       "    }\n",
       "\n",
       "    .dataframe thead th {\n",
       "        text-align: right;\n",
       "    }\n",
       "</style>\n",
       "<table border=\"1\" class=\"dataframe\">\n",
       "  <thead>\n",
       "    <tr style=\"text-align: right;\">\n",
       "      <th></th>\n",
       "      <th>order_id</th>\n",
       "      <th>customer_id</th>\n",
       "      <th>restaurant_name</th>\n",
       "      <th>cuisine_type</th>\n",
       "      <th>cost_of_the_order</th>\n",
       "      <th>day_of_the_week</th>\n",
       "      <th>rating</th>\n",
       "      <th>food_preparation_time</th>\n",
       "      <th>delivery_time</th>\n",
       "      <th>Revenue</th>\n",
       "    </tr>\n",
       "  </thead>\n",
       "  <tbody>\n",
       "    <tr>\n",
       "      <th>0</th>\n",
       "      <td>1477147</td>\n",
       "      <td>337525</td>\n",
       "      <td>Hangawi</td>\n",
       "      <td>Korean</td>\n",
       "      <td>30.75</td>\n",
       "      <td>Weekend</td>\n",
       "      <td>Not given</td>\n",
       "      <td>25</td>\n",
       "      <td>20</td>\n",
       "      <td>7.6875</td>\n",
       "    </tr>\n",
       "    <tr>\n",
       "      <th>1</th>\n",
       "      <td>1477685</td>\n",
       "      <td>358141</td>\n",
       "      <td>Blue Ribbon Sushi Izakaya</td>\n",
       "      <td>Japanese</td>\n",
       "      <td>12.08</td>\n",
       "      <td>Weekend</td>\n",
       "      <td>Not given</td>\n",
       "      <td>25</td>\n",
       "      <td>23</td>\n",
       "      <td>1.8120</td>\n",
       "    </tr>\n",
       "    <tr>\n",
       "      <th>2</th>\n",
       "      <td>1477070</td>\n",
       "      <td>66393</td>\n",
       "      <td>Cafe Habana</td>\n",
       "      <td>Mexican</td>\n",
       "      <td>12.23</td>\n",
       "      <td>Weekday</td>\n",
       "      <td>5</td>\n",
       "      <td>23</td>\n",
       "      <td>28</td>\n",
       "      <td>1.8345</td>\n",
       "    </tr>\n",
       "    <tr>\n",
       "      <th>3</th>\n",
       "      <td>1477334</td>\n",
       "      <td>106968</td>\n",
       "      <td>Blue Ribbon Fried Chicken</td>\n",
       "      <td>American</td>\n",
       "      <td>29.20</td>\n",
       "      <td>Weekend</td>\n",
       "      <td>3</td>\n",
       "      <td>25</td>\n",
       "      <td>15</td>\n",
       "      <td>7.3000</td>\n",
       "    </tr>\n",
       "    <tr>\n",
       "      <th>4</th>\n",
       "      <td>1478249</td>\n",
       "      <td>76942</td>\n",
       "      <td>Dirty Bird to Go</td>\n",
       "      <td>American</td>\n",
       "      <td>11.59</td>\n",
       "      <td>Weekday</td>\n",
       "      <td>4</td>\n",
       "      <td>25</td>\n",
       "      <td>24</td>\n",
       "      <td>1.7385</td>\n",
       "    </tr>\n",
       "  </tbody>\n",
       "</table>\n",
       "</div>"
      ],
      "text/plain": [
       "   order_id  customer_id            restaurant_name cuisine_type  \\\n",
       "0   1477147       337525                    Hangawi       Korean   \n",
       "1   1477685       358141  Blue Ribbon Sushi Izakaya     Japanese   \n",
       "2   1477070        66393                Cafe Habana      Mexican   \n",
       "3   1477334       106968  Blue Ribbon Fried Chicken     American   \n",
       "4   1478249        76942           Dirty Bird to Go     American   \n",
       "\n",
       "   cost_of_the_order day_of_the_week     rating  food_preparation_time  \\\n",
       "0              30.75         Weekend  Not given                     25   \n",
       "1              12.08         Weekend  Not given                     25   \n",
       "2              12.23         Weekday          5                     23   \n",
       "3              29.20         Weekend          3                     25   \n",
       "4              11.59         Weekday          4                     25   \n",
       "\n",
       "   delivery_time  Revenue  \n",
       "0             20   7.6875  \n",
       "1             23   1.8120  \n",
       "2             28   1.8345  \n",
       "3             15   7.3000  \n",
       "4             24   1.7385  "
      ]
     },
     "execution_count": 64,
     "metadata": {},
     "output_type": "execute_result"
    }
   ],
   "source": [
    "# Function to determine the revenue\n",
    "def compute_rev(x):\n",
    "    if x > 20:\n",
    "        return x*0.25\n",
    "    elif x > 5:\n",
    "        return x*0.15\n",
    "    else:\n",
    "        return x*0\n",
    "\n",
    "df['Revenue'] = df['cost_of_the_order'].apply(compute_rev) \n",
    "df.head()"
   ]
  },
  {
   "cell_type": "code",
   "execution_count": 65,
   "id": "fe9b727b",
   "metadata": {},
   "outputs": [
    {
     "name": "stdout",
     "output_type": "stream",
     "text": [
      "The net revenue is around 6166.3 dollars\n"
     ]
    }
   ],
   "source": [
    "# Get the total revenue and print it\n",
    "total_rev = df['Revenue'].sum() \n",
    "print('The net revenue is around', round(total_rev, 2), 'dollars')"
   ]
  },
  {
   "cell_type": "markdown",
   "id": "9007cb02",
   "metadata": {},
   "source": [
    "Observation : The company has a revenue of 6166.3 dollars"
   ]
  },
  {
   "cell_type": "markdown",
   "id": "e9306da5",
   "metadata": {},
   "source": [
    "Question 15: The company wants to analyze the total time required to deliver the food. What percentage of orders take more than 60 minutes to get delivered from the time the order is placed? (The food has to be prepared and then delivered.) [2 marks]"
   ]
  },
  {
   "cell_type": "code",
   "execution_count": 118,
   "id": "2267f744",
   "metadata": {},
   "outputs": [
    {
     "name": "stdout",
     "output_type": "stream",
     "text": [
      "The number of total orders that have more than 60 minutes is: 200\n"
     ]
    }
   ],
   "source": [
    "# Calculate total delivery time and add a new column to the dataframe df to store the total delivery time\n",
    "df['total_time'] = df['food_preparation_time'] + df['delivery_time']\n",
    "\n",
    "# Get orders that have more than 60 minutes\n",
    "df_greater_than_60 = df[df['total_time']>60] \n",
    "\n",
    "# Calculate the number of total orders that have more than 60 minutes of total delivery time\n",
    "print('The number of total orders that have more than 60 minutes is:', df_greater_than_60.shape[0])\n"
   ]
  },
  {
   "cell_type": "markdown",
   "id": "c383d61f",
   "metadata": {},
   "source": [
    "Observation : 200 orders take more than 60 minutes for the total delivery"
   ]
  },
  {
   "cell_type": "code",
   "execution_count": 119,
   "id": "40af0ef5",
   "metadata": {},
   "outputs": [
    {
     "name": "stdout",
     "output_type": "stream",
     "text": [
      "percentage of orders that have more than 60 minutes of total delivery time 10.54 %\n"
     ]
    }
   ],
   "source": [
    "# Write the code below to find the percentage of orders that have more than 60 minutes of total delivery time \n",
    "percentage = (df_greater_than_60.shape[0] / df.shape[0]) * 100\n",
    "\n",
    "print(\"percentage of orders that have more than 60 minutes of total delivery time\", round(percentage, 2), '%')"
   ]
  },
  {
   "cell_type": "markdown",
   "id": "940bb2c9",
   "metadata": {},
   "source": [
    "10.54% of the orders take more than 60 minutes for the total delivery"
   ]
  },
  {
   "cell_type": "markdown",
   "id": "d590e13f",
   "metadata": {},
   "source": [
    "Question 16: The company wants to analyze the delivery time of the orders on weekdays and weekends. How does the mean delivery time vary during weekdays and weekends? [2 marks]¶"
   ]
  },
  {
   "cell_type": "code",
   "execution_count": 116,
   "id": "8b0f2b2c",
   "metadata": {},
   "outputs": [
    {
     "name": "stdout",
     "output_type": "stream",
     "text": [
      "The mean delivery time on weekdays is around 28 minutes\n"
     ]
    }
   ],
   "source": [
    "# Get the mean delivery time on weekdays and print it\n",
    "print('The mean delivery time on weekdays is around', \n",
    "      round(df[df['day_of_the_week'] == 'Weekday']['delivery_time'].mean()),\n",
    "     'minutes')\n",
    "\n"
   ]
  },
  {
   "cell_type": "code",
   "execution_count": 117,
   "id": "d9fabd6e",
   "metadata": {},
   "outputs": [
    {
     "name": "stdout",
     "output_type": "stream",
     "text": [
      "The mean delivery time on weekend is around 22 minutes\n"
     ]
    }
   ],
   "source": [
    "print('The mean delivery time on weekend is around', \n",
    "      round(df[df['day_of_the_week'] == 'Weekend']['delivery_time'].mean()),\n",
    "     'minutes')"
   ]
  },
  {
   "cell_type": "markdown",
   "id": "85441c24",
   "metadata": {},
   "source": [
    "Weekend delivery(22 minutes) is faster than weekday delivery(28)."
   ]
  },
  {
   "cell_type": "markdown",
   "id": "107f61fc",
   "metadata": {},
   "source": [
    "Question 17: What are your conclusions from the analysis? What recommendations would you like to share to help improve the business? (You can use cuisine type and feedback ratings to drive your business recommendations.) [6 marks]"
   ]
  },
  {
   "cell_type": "code",
   "execution_count": 155,
   "id": "4eca6f0a",
   "metadata": {},
   "outputs": [
    {
     "data": {
      "image/png": "[encoded data removed]",
      "text/plain": [
       "<Figure size 432x288 with 1 Axes>"
      ]
     },
     "metadata": {
      "needs_background": "light"
     },
     "output_type": "display_data"
    }
   ],
   "source": [
    "sns.histplot(data=df,x='rating')\n",
    "plt.show()"
   ]
  },
  {
   "cell_type": "code",
   "execution_count": 157,
   "id": "bd393c2b",
   "metadata": {},
   "outputs": [
    {
     "data": {
      "image/png": "[encoded data removed]",
      "text/plain": [
       "<Figure size 432x288 with 1 Axes>"
      ]
     },
     "metadata": {
      "needs_background": "light"
     },
     "output_type": "display_data"
    }
   ],
   "source": [
    "sns.histplot(data=df,x='cuisine_type')\n",
    "plt.xticks(rotation=90)\n",
    "plt.show()"
   ]
  },
  {
   "cell_type": "markdown",
   "id": "bb596c95",
   "metadata": {},
   "source": [
    "What are your conclusions from the analysis?\n",
    "\n",
    "According to the analyses, the company is not in good shape. Although it offers 14 different types of cuisines and has service available weekdays and weekends, 70.76% of orders are under $20. The average time of delivery and preparation of the dishes are 24.16 mins and 27 mins successively. If you look at the order and delivery time, it takes about 45 minutes in total for the customer to pick up his order. The company has to put in a lot more effort to manage the customer aspect because the majority of customers don't even rate the service. \n",
    "\n"
   ]
  },
  {
   "cell_type": "markdown",
   "id": "939cc833",
   "metadata": {},
   "source": [
    "What recommendations would you like to share to help improve the business?\n",
    "\n",
    "- First of all, have a better customer service (manage delivery time, preparation time)\n",
    "- Ask customer to give feedbacks about services ( we will know that they think and what we can do to improve the service)\n"
   ]
  },
  {
   "cell_type": "code",
   "execution_count": 3,
   "id": "8908564d",
   "metadata": {},
   "outputs": [
    {
     "name": "stdout",
     "output_type": "stream",
     "text": [
      "[[ 1.62434536 -1.07296862  1.74481176 -0.24937038 -0.3224172  -1.09989127\n",
      "   0.04221375  1.14472371  0.90085595 -0.93576943 -0.69166075 -0.84520564\n",
      "  -1.11731035  0.74204416 -0.74715829 -0.63699565  0.12015895 -0.35224985\n",
      "  -0.20889423  0.93110208  0.24560206  0.70190716  2.13162939 -0.39649634\n",
      "   1.16003707 -1.02220122  1.23009474  0.79924193  1.19829972  1.37756379\n",
      "   2.19891788  0.36126959  0.65614632  1.69803203  1.40349164  1.16938243\n",
      "   0.73378149  1.31515939  1.35054598 -0.61577235]\n",
      " [-0.61175641  0.86540763 -0.7612069   1.46210794 -0.38405435 -0.17242821\n",
      "   0.58281521  0.90159072 -0.68372786 -0.26788808 -0.39675353 -0.67124613\n",
      "   0.2344157  -0.19183555  1.6924546   0.19091548  0.61720311 -1.1425182\n",
      "   0.58662319  0.28558733  2.25286816  1.48851815  2.51981682 -0.44411381\n",
      "   1.87616892  0.69379599  1.76201118  1.18656139  1.11900865  1.12182127\n",
      "   1.18515642  1.42349435  1.04359686  0.55287144  1.59357852  1.74055645\n",
      "   1.03261455  1.84616065 -0.31228341  2.12141771]\n",
      " [-0.52817175 -2.3015387   0.3190391  -2.06014071  1.13376944 -0.87785842\n",
      "  -1.10061918  0.50249434 -0.12289023  0.53035547 -0.6871727  -0.0126646\n",
      "   1.65980218 -0.88762896  0.05080775  2.10025514  0.30017032 -0.34934272\n",
      "   0.83898341  0.88514116  1.51292982  0.92442829  3.18557541  0.49553414\n",
      "   1.31563495  1.82797464  0.77767186  1.41005165  0.32933771  2.12948391\n",
      "   0.62471505  1.07734007  0.37999916  2.2245077  -0.09491185  0.0462994\n",
      "  -0.37311732  0.14048406  0.96130449  1.40890054]]\n"
     ]
    }
   ],
   "source": [
    "import numpy as np\n",
    "np.random.seed(1)\n",
    "\n",
    "vec1 = np.array([0, 0, 0])\n",
    "mat1 = np.array([[1, 0, 0], [0, 1, 0], [0, 0, 1]])\n",
    "sample_for_class1 = np.random.multivariate_normal(vec1, mat1, 20).T\n",
    "assert sample_for_class1.shape == (3, 20), \"The dimension of the sample_for_class1 matrix is not 3x20\"\n",
    "\n",
    "vec2 = np.array([1, 1, 1])\n",
    "mat2 = np.array([[1, 0, 0], [0, 1, 0], [0, 0, 1]])\n",
    "sample_for_class2 = np.random.multivariate_normal(vec2, mat2, 20).T\n",
    "assert sample_for_class2.shape == (3, 20), \"The dimension of the sample_for_class2 matrix is not 3x20\"\n",
    "\n",
    "all_data = np.concatenate((sample_for_class1, sample_for_class2), axis=1)\n",
    "assert all_data.shape == (3, 40), \"The dimension of the all_data matrix is not 3x20\"\n",
    "print(all_data)"
   ]
  },
  {
   "cell_type": "code",
   "execution_count": 1,
   "id": "9885d43a",
   "metadata": {},
   "outputs": [],
   "source": [
    "import scipy.stats as stats\n",
    "\n",
    "import numpy as np\n",
    "\n",
    "import matplotlib.pyplot as plt\n",
    "\n",
    "from statsmodels.stats.proportion import proportions_ztest\n",
    "\n",
    "import seaborn as sns\n",
    "\n",
    "from scipy.stats import binom"
   ]
  },
  {
   "cell_type": "code",
   "execution_count": 2,
   "id": "a203f1c1",
   "metadata": {},
   "outputs": [
    {
     "name": "stdout",
     "output_type": "stream",
     "text": [
      "The p-value is 0.0012\n"
     ]
    }
   ],
   "source": [
    "# Finding the p-value using the Binomial distribution\n",
    "print(\"The p-value is\", round(stats.binom_test(x = 39, n = 31000, p = 0.002, alternative = \"less\" ), 4))"
   ]
  },
  {
   "cell_type": "code",
   "execution_count": 3,
   "id": "64036440",
   "metadata": {},
   "outputs": [],
   "source": [
    "n = 31000\n",
    "\n",
    "p = 0.002\n",
    "\n",
    "k = np.arange(0, 200)\n",
    "\n",
    "dist = [binom.pmf(i, n, p) for i in k]    # Probabilities, calculated using ~ Binom( 31000, 0.002 ), for each value of k"
   ]
  },
  {
   "cell_type": "code",
   "execution_count": 4,
   "id": "eecdfe83",
   "metadata": {},
   "outputs": [
    {
     "data": {
      "image/png": "[encoded data removed]",
      "text/plain": [
       "<Figure size 720x360 with 1 Axes>"
      ]
     },
     "metadata": {
      "needs_background": "light"
     },
     "output_type": "display_data"
    }
   ],
   "source": [
    "plt.figure(figsize = (10, 5))\n",
    "\n",
    "plt.bar(k, dist)\n",
    "\n",
    "plt.axvline(50, color = 'red', linestyle = '-', linewidth=1)\n",
    "\n",
    "plt.xlabel(\"x-value\")\n",
    "\n",
    "plt.ylabel(\"density\")\n",
    "\n",
    "plt.show()"
   ]
  },
  {
   "cell_type": "code",
   "execution_count": 5,
   "id": "631fae65",
   "metadata": {},
   "outputs": [],
   "source": [
    "stat, pvalue = proportions_ztest(count = 39, nobs = 31000, value = 0.002, alternative = \"smaller\")"
   ]
  },
  {
   "cell_type": "code",
   "execution_count": 6,
   "id": "b3a69246",
   "metadata": {},
   "outputs": [
    {
     "name": "stdout",
     "output_type": "stream",
     "text": [
      "The p-value is 0.00011423176454888235\n"
     ]
    }
   ],
   "source": [
    "print(\"The p-value is\", pvalue)"
   ]
  },
  {
   "cell_type": "code",
   "execution_count": 7,
   "id": "5079e39f",
   "metadata": {},
   "outputs": [],
   "source": [
    "from time import time\n",
    "\n",
    "import numpy as np\n",
    "\n",
    "import matplotlib.pyplot as plt\n",
    "\n",
    "import seaborn as sns\n",
    "\n",
    "from matplotlib import offsetbox\n",
    "\n",
    "from sklearn import manifold, datasets, decomposition"
   ]
  },
  {
   "cell_type": "code",
   "execution_count": 8,
   "id": "276688a9",
   "metadata": {},
   "outputs": [],
   "source": [
    "digits = datasets.load_digits(n_class = 6)    # Loading the data using the sklearn library\n",
    "\n",
    "X = digits.data\n",
    "\n",
    "y = digits.target\n",
    "\n",
    "n_samples, n_features = X.shape\n",
    "\n",
    "n_neighbors = 30"
   ]
  },
  {
   "cell_type": "code",
   "execution_count": 9,
   "id": "07f193a8",
   "metadata": {},
   "outputs": [
    {
     "data": {
      "text/plain": [
       "(1083, 64)"
      ]
     },
     "execution_count": 9,
     "metadata": {},
     "output_type": "execute_result"
    }
   ],
   "source": [
    "X.shape    # Printing the dimensions of X"
   ]
  },
  {
   "cell_type": "code",
   "execution_count": 1,
   "id": "30bb646a",
   "metadata": {},
   "outputs": [
    {
     "name": "stdout",
     "output_type": "stream",
     "text": [
      "Collecting pandas_datareader\n",
      "  Downloading pandas_datareader-0.10.0-py3-none-any.whl (109 kB)\n",
      "Requirement already satisfied: requests>=2.19.0 in c:\\users\\vedalie goudou\\anaconda3\\lib\\site-packages (from pandas_datareader) (2.27.1)\n",
      "Requirement already satisfied: lxml in c:\\users\\vedalie goudou\\anaconda3\\lib\\site-packages (from pandas_datareader) (4.8.0)\n",
      "Requirement already satisfied: pandas>=0.23 in c:\\users\\vedalie goudou\\anaconda3\\lib\\site-packages (from pandas_datareader) (1.4.2)\n",
      "Requirement already satisfied: python-dateutil>=2.8.1 in c:\\users\\vedalie goudou\\anaconda3\\lib\\site-packages (from pandas>=0.23->pandas_datareader) (2.8.2)\n",
      "Requirement already satisfied: numpy>=1.18.5 in c:\\users\\vedalie goudou\\anaconda3\\lib\\site-packages (from pandas>=0.23->pandas_datareader) (1.21.5)\n",
      "Requirement already satisfied: pytz>=2020.1 in c:\\users\\vedalie goudou\\anaconda3\\lib\\site-packages (from pandas>=0.23->pandas_datareader) (2021.3)\n",
      "Requirement already satisfied: six>=1.5 in c:\\users\\vedalie goudou\\anaconda3\\lib\\site-packages (from python-dateutil>=2.8.1->pandas>=0.23->pandas_datareader) (1.16.0)\n",
      "Requirement already satisfied: charset-normalizer~=2.0.0 in c:\\users\\vedalie goudou\\anaconda3\\lib\\site-packages (from requests>=2.19.0->pandas_datareader) (2.0.4)\n",
      "Requirement already satisfied: idna<4,>=2.5 in c:\\users\\vedalie goudou\\anaconda3\\lib\\site-packages (from requests>=2.19.0->pandas_datareader) (3.3)\n",
      "Requirement already satisfied: urllib3<1.27,>=1.21.1 in c:\\users\\vedalie goudou\\anaconda3\\lib\\site-packages (from requests>=2.19.0->pandas_datareader) (1.26.9)\n",
      "Requirement already satisfied: certifi>=2017.4.17 in c:\\users\\vedalie goudou\\anaconda3\\lib\\site-packages (from requests>=2.19.0->pandas_datareader) (2021.10.8)\n",
      "Installing collected packages: pandas-datareader\n",
      "Successfully installed pandas-datareader-0.10.0\n"
     ]
    }
   ],
   "source": [
    "!pip install pandas_datareader"
   ]
  },
  {
   "cell_type": "code",
   "execution_count": 2,
   "id": "ae33bc7b",
   "metadata": {},
   "outputs": [],
   "source": [
    "import tqdm\n",
    "import requests\n",
    "import numpy as np\n",
    "import pandas as pd\n",
    "import seaborn as sns\n",
    "import networkx as nx\n",
    "import plotly.express as px\n",
    "from bs4 import BeautifulSoup\n",
    "import matplotlib.pyplot as plt\n",
    "import pandas_datareader.data as web\n",
    "\n",
    "import warnings\n",
    "warnings.filterwarnings('ignore')"
   ]
  },
  {
   "cell_type": "code",
   "execution_count": 3,
   "id": "e673a203",
   "metadata": {},
   "outputs": [],
   "source": [
    "#Extracting list of S&P 500 companies using BeautifulSoup.\n",
    "resp = requests.get('http://en.wikipedia.org/wiki/List_of_S%26P_500_companies')\n",
    "soup = BeautifulSoup(resp.text, 'lxml')\n",
    "table = soup.find('table', {'class': 'wikitable sortable'})\n",
    "tickers = []\n",
    "for row in table.findAll('tr')[1:]:\n",
    "    ticker = row.findAll('td')[0].text.strip('\\n')\n",
    "    tickers.append(ticker)\n",
    "    \n",
    "tickers = [ticker.replace('.', '-') for ticker in tickers] # list of S&P 500 stocks"
   ]
  },
  {
   "cell_type": "code",
   "execution_count": 6,
   "id": "d1fd4f37",
   "metadata": {},
   "outputs": [],
   "source": [
    "price_data = pd.read_csv('C:\\\\Users\\\\Vedalie Goudou\\\\Desktop\\\\Applied Data Science\\\\price_2020.csv', index_col=[0])"
   ]
  },
  {
   "cell_type": "code",
   "execution_count": 7,
   "id": "e1b1e6e0",
   "metadata": {},
   "outputs": [
    {
     "data": {
      "text/html": [
       "<div>\n",
       "<style scoped>\n",
       "    .dataframe tbody tr th:only-of-type {\n",
       "        vertical-align: middle;\n",
       "    }\n",
       "\n",
       "    .dataframe tbody tr th {\n",
       "        vertical-align: top;\n",
       "    }\n",
       "\n",
       "    .dataframe thead th {\n",
       "        text-align: right;\n",
       "    }\n",
       "</style>\n",
       "<table border=\"1\" class=\"dataframe\">\n",
       "  <thead>\n",
       "    <tr style=\"text-align: right;\">\n",
       "      <th></th>\n",
       "      <th>MMM</th>\n",
       "      <th>AOS</th>\n",
       "      <th>ABT</th>\n",
       "      <th>ABBV</th>\n",
       "      <th>ABMD</th>\n",
       "      <th>ACN</th>\n",
       "      <th>ATVI</th>\n",
       "      <th>ADM</th>\n",
       "      <th>ADBE</th>\n",
       "      <th>ADP</th>\n",
       "      <th>...</th>\n",
       "      <th>XEL</th>\n",
       "      <th>XLNX</th>\n",
       "      <th>XYL</th>\n",
       "      <th>YUM</th>\n",
       "      <th>ZBRA</th>\n",
       "      <th>ZBH</th>\n",
       "      <th>ZION</th>\n",
       "      <th>ZTS</th>\n",
       "      <th>CEG</th>\n",
       "      <th>OGN</th>\n",
       "    </tr>\n",
       "    <tr>\n",
       "      <th>Date</th>\n",
       "      <th></th>\n",
       "      <th></th>\n",
       "      <th></th>\n",
       "      <th></th>\n",
       "      <th></th>\n",
       "      <th></th>\n",
       "      <th></th>\n",
       "      <th></th>\n",
       "      <th></th>\n",
       "      <th></th>\n",
       "      <th></th>\n",
       "      <th></th>\n",
       "      <th></th>\n",
       "      <th></th>\n",
       "      <th></th>\n",
       "      <th></th>\n",
       "      <th></th>\n",
       "      <th></th>\n",
       "      <th></th>\n",
       "      <th></th>\n",
       "      <th></th>\n",
       "    </tr>\n",
       "  </thead>\n",
       "  <tbody>\n",
       "    <tr>\n",
       "      <th>2010-12-31</th>\n",
       "      <td>63.855606</td>\n",
       "      <td>8.113162</td>\n",
       "      <td>17.986767</td>\n",
       "      <td>NaN</td>\n",
       "      <td>9.61</td>\n",
       "      <td>39.143620</td>\n",
       "      <td>11.245819</td>\n",
       "      <td>22.385578</td>\n",
       "      <td>30.780001</td>\n",
       "      <td>31.271172</td>\n",
       "      <td>...</td>\n",
       "      <td>16.221039</td>\n",
       "      <td>23.216919</td>\n",
       "      <td>NaN</td>\n",
       "      <td>28.547478</td>\n",
       "      <td>37.990002</td>\n",
       "      <td>49.212429</td>\n",
       "      <td>21.089169</td>\n",
       "      <td>NaN</td>\n",
       "      <td>NaN</td>\n",
       "      <td>NaN</td>\n",
       "    </tr>\n",
       "    <tr>\n",
       "      <th>2011-01-03</th>\n",
       "      <td>64.218163</td>\n",
       "      <td>8.125947</td>\n",
       "      <td>17.952976</td>\n",
       "      <td>NaN</td>\n",
       "      <td>9.80</td>\n",
       "      <td>39.224346</td>\n",
       "      <td>11.318138</td>\n",
       "      <td>22.623722</td>\n",
       "      <td>31.290001</td>\n",
       "      <td>31.791464</td>\n",
       "      <td>...</td>\n",
       "      <td>16.227924</td>\n",
       "      <td>23.569420</td>\n",
       "      <td>NaN</td>\n",
       "      <td>28.570745</td>\n",
       "      <td>38.200001</td>\n",
       "      <td>50.395058</td>\n",
       "      <td>21.907326</td>\n",
       "      <td>NaN</td>\n",
       "      <td>NaN</td>\n",
       "      <td>NaN</td>\n",
       "    </tr>\n",
       "    <tr>\n",
       "      <th>2011-01-04</th>\n",
       "      <td>64.129395</td>\n",
       "      <td>8.100383</td>\n",
       "      <td>18.121916</td>\n",
       "      <td>NaN</td>\n",
       "      <td>9.80</td>\n",
       "      <td>38.966022</td>\n",
       "      <td>11.327178</td>\n",
       "      <td>22.608845</td>\n",
       "      <td>31.510000</td>\n",
       "      <td>31.676586</td>\n",
       "      <td>...</td>\n",
       "      <td>16.296804</td>\n",
       "      <td>23.665552</td>\n",
       "      <td>NaN</td>\n",
       "      <td>28.134232</td>\n",
       "      <td>37.840000</td>\n",
       "      <td>49.725819</td>\n",
       "      <td>21.550467</td>\n",
       "      <td>NaN</td>\n",
       "      <td>NaN</td>\n",
       "      <td>NaN</td>\n",
       "    </tr>\n",
       "    <tr>\n",
       "      <th>2011-01-05</th>\n",
       "      <td>64.129395</td>\n",
       "      <td>8.285738</td>\n",
       "      <td>18.121916</td>\n",
       "      <td>NaN</td>\n",
       "      <td>10.03</td>\n",
       "      <td>38.974094</td>\n",
       "      <td>11.110217</td>\n",
       "      <td>22.713020</td>\n",
       "      <td>32.220001</td>\n",
       "      <td>32.183357</td>\n",
       "      <td>...</td>\n",
       "      <td>16.200367</td>\n",
       "      <td>23.745670</td>\n",
       "      <td>NaN</td>\n",
       "      <td>28.268110</td>\n",
       "      <td>37.799999</td>\n",
       "      <td>49.762482</td>\n",
       "      <td>21.672325</td>\n",
       "      <td>NaN</td>\n",
       "      <td>NaN</td>\n",
       "      <td>NaN</td>\n",
       "    </tr>\n",
       "    <tr>\n",
       "      <th>2011-01-06</th>\n",
       "      <td>63.737186</td>\n",
       "      <td>8.289999</td>\n",
       "      <td>18.084377</td>\n",
       "      <td>NaN</td>\n",
       "      <td>10.05</td>\n",
       "      <td>39.119389</td>\n",
       "      <td>11.083097</td>\n",
       "      <td>23.583750</td>\n",
       "      <td>32.270000</td>\n",
       "      <td>32.433369</td>\n",
       "      <td>...</td>\n",
       "      <td>16.186602</td>\n",
       "      <td>24.146229</td>\n",
       "      <td>NaN</td>\n",
       "      <td>28.465996</td>\n",
       "      <td>37.480000</td>\n",
       "      <td>48.222305</td>\n",
       "      <td>21.611391</td>\n",
       "      <td>NaN</td>\n",
       "      <td>NaN</td>\n",
       "      <td>NaN</td>\n",
       "    </tr>\n",
       "  </tbody>\n",
       "</table>\n",
       "<p>5 rows × 505 columns</p>\n",
       "</div>"
      ],
      "text/plain": [
       "                  MMM       AOS        ABT  ABBV   ABMD        ACN       ATVI  \\\n",
       "Date                                                                            \n",
       "2010-12-31  63.855606  8.113162  17.986767   NaN   9.61  39.143620  11.245819   \n",
       "2011-01-03  64.218163  8.125947  17.952976   NaN   9.80  39.224346  11.318138   \n",
       "2011-01-04  64.129395  8.100383  18.121916   NaN   9.80  38.966022  11.327178   \n",
       "2011-01-05  64.129395  8.285738  18.121916   NaN  10.03  38.974094  11.110217   \n",
       "2011-01-06  63.737186  8.289999  18.084377   NaN  10.05  39.119389  11.083097   \n",
       "\n",
       "                  ADM       ADBE        ADP  ...        XEL       XLNX  XYL  \\\n",
       "Date                                         ...                              \n",
       "2010-12-31  22.385578  30.780001  31.271172  ...  16.221039  23.216919  NaN   \n",
       "2011-01-03  22.623722  31.290001  31.791464  ...  16.227924  23.569420  NaN   \n",
       "2011-01-04  22.608845  31.510000  31.676586  ...  16.296804  23.665552  NaN   \n",
       "2011-01-05  22.713020  32.220001  32.183357  ...  16.200367  23.745670  NaN   \n",
       "2011-01-06  23.583750  32.270000  32.433369  ...  16.186602  24.146229  NaN   \n",
       "\n",
       "                  YUM       ZBRA        ZBH       ZION  ZTS  CEG  OGN  \n",
       "Date                                                                   \n",
       "2010-12-31  28.547478  37.990002  49.212429  21.089169  NaN  NaN  NaN  \n",
       "2011-01-03  28.570745  38.200001  50.395058  21.907326  NaN  NaN  NaN  \n",
       "2011-01-04  28.134232  37.840000  49.725819  21.550467  NaN  NaN  NaN  \n",
       "2011-01-05  28.268110  37.799999  49.762482  21.672325  NaN  NaN  NaN  \n",
       "2011-01-06  28.465996  37.480000  48.222305  21.611391  NaN  NaN  NaN  \n",
       "\n",
       "[5 rows x 505 columns]"
      ]
     },
     "execution_count": 7,
     "metadata": {},
     "output_type": "execute_result"
    }
   ],
   "source": [
    "price_data.head()"
   ]
  },
  {
   "cell_type": "code",
   "execution_count": 9,
   "id": "50cd8768",
   "metadata": {},
   "outputs": [
    {
     "name": "stdout",
     "output_type": "stream",
     "text": [
      "<class 'pandas.core.frame.DataFrame'>\n",
      "Index: 2518 entries, 2010-12-31 to 2020-12-31\n",
      "Columns: 505 entries, MMM to OGN\n",
      "dtypes: float64(505)\n",
      "memory usage: 9.7+ MB\n"
     ]
    }
   ],
   "source": [
    "price_data.info()"
   ]
  },
  {
   "cell_type": "code",
   "execution_count": 10,
   "id": "c0cf4faf",
   "metadata": {},
   "outputs": [
    {
     "data": {
      "text/html": [
       "<div>\n",
       "<style scoped>\n",
       "    .dataframe tbody tr th:only-of-type {\n",
       "        vertical-align: middle;\n",
       "    }\n",
       "\n",
       "    .dataframe tbody tr th {\n",
       "        vertical-align: top;\n",
       "    }\n",
       "\n",
       "    .dataframe thead th {\n",
       "        text-align: right;\n",
       "    }\n",
       "</style>\n",
       "<table border=\"1\" class=\"dataframe\">\n",
       "  <thead>\n",
       "    <tr style=\"text-align: right;\">\n",
       "      <th></th>\n",
       "      <th>MMM</th>\n",
       "      <th>AOS</th>\n",
       "      <th>ABT</th>\n",
       "      <th>ABBV</th>\n",
       "      <th>ABMD</th>\n",
       "      <th>ACN</th>\n",
       "      <th>ATVI</th>\n",
       "      <th>ADM</th>\n",
       "      <th>ADBE</th>\n",
       "      <th>ADP</th>\n",
       "      <th>...</th>\n",
       "      <th>XEL</th>\n",
       "      <th>XLNX</th>\n",
       "      <th>XYL</th>\n",
       "      <th>YUM</th>\n",
       "      <th>ZBRA</th>\n",
       "      <th>ZBH</th>\n",
       "      <th>ZION</th>\n",
       "      <th>ZTS</th>\n",
       "      <th>CEG</th>\n",
       "      <th>OGN</th>\n",
       "    </tr>\n",
       "  </thead>\n",
       "  <tbody>\n",
       "    <tr>\n",
       "      <th>count</th>\n",
       "      <td>2518.000000</td>\n",
       "      <td>2518.000000</td>\n",
       "      <td>2518.000000</td>\n",
       "      <td>2015.000000</td>\n",
       "      <td>2518.000000</td>\n",
       "      <td>2518.000000</td>\n",
       "      <td>2518.000000</td>\n",
       "      <td>2518.000000</td>\n",
       "      <td>2518.000000</td>\n",
       "      <td>2518.000000</td>\n",
       "      <td>...</td>\n",
       "      <td>2518.000000</td>\n",
       "      <td>2518.000000</td>\n",
       "      <td>2320.000000</td>\n",
       "      <td>2518.000000</td>\n",
       "      <td>2518.000000</td>\n",
       "      <td>2518.000000</td>\n",
       "      <td>2518.000000</td>\n",
       "      <td>1994.000000</td>\n",
       "      <td>0.0</td>\n",
       "      <td>0.0</td>\n",
       "    </tr>\n",
       "    <tr>\n",
       "      <th>mean</th>\n",
       "      <td>129.500052</td>\n",
       "      <td>32.770849</td>\n",
       "      <td>46.444723</td>\n",
       "      <td>57.276296</td>\n",
       "      <td>123.081910</td>\n",
       "      <td>107.789455</td>\n",
       "      <td>36.281898</td>\n",
       "      <td>34.113940</td>\n",
       "      <td>143.081696</td>\n",
       "      <td>85.568949</td>\n",
       "      <td>...</td>\n",
       "      <td>34.882851</td>\n",
       "      <td>55.474184</td>\n",
       "      <td>47.508639</td>\n",
       "      <td>60.326381</td>\n",
       "      <td>107.043304</td>\n",
       "      <td>98.045064</td>\n",
       "      <td>30.111294</td>\n",
       "      <td>68.934349</td>\n",
       "      <td>NaN</td>\n",
       "      <td>NaN</td>\n",
       "    </tr>\n",
       "    <tr>\n",
       "      <th>std</th>\n",
       "      <td>43.221956</td>\n",
       "      <td>16.555322</td>\n",
       "      <td>23.071820</td>\n",
       "      <td>19.309089</td>\n",
       "      <td>115.215659</td>\n",
       "      <td>53.765677</td>\n",
       "      <td>22.964712</td>\n",
       "      <td>7.417566</td>\n",
       "      <td>124.003558</td>\n",
       "      <td>41.196759</td>\n",
       "      <td>...</td>\n",
       "      <td>15.009063</td>\n",
       "      <td>28.683313</td>\n",
       "      <td>21.298958</td>\n",
       "      <td>22.523191</td>\n",
       "      <td>76.508076</td>\n",
       "      <td>27.579190</td>\n",
       "      <td>10.685199</td>\n",
       "      <td>38.794829</td>\n",
       "      <td>NaN</td>\n",
       "      <td>NaN</td>\n",
       "    </tr>\n",
       "    <tr>\n",
       "      <th>min</th>\n",
       "      <td>53.467857</td>\n",
       "      <td>6.549759</td>\n",
       "      <td>17.111717</td>\n",
       "      <td>23.022469</td>\n",
       "      <td>9.490000</td>\n",
       "      <td>38.607128</td>\n",
       "      <td>9.571697</td>\n",
       "      <td>18.252689</td>\n",
       "      <td>22.690001</td>\n",
       "      <td>30.702240</td>\n",
       "      <td>...</td>\n",
       "      <td>15.353941</td>\n",
       "      <td>22.038038</td>\n",
       "      <td>20.060301</td>\n",
       "      <td>27.142870</td>\n",
       "      <td>28.610001</td>\n",
       "      <td>43.464252</td>\n",
       "      <td>11.924496</td>\n",
       "      <td>26.830307</td>\n",
       "      <td>NaN</td>\n",
       "      <td>NaN</td>\n",
       "    </tr>\n",
       "    <tr>\n",
       "      <th>25%</th>\n",
       "      <td>88.326887</td>\n",
       "      <td>17.244522</td>\n",
       "      <td>30.397619</td>\n",
       "      <td>42.209427</td>\n",
       "      <td>22.582500</td>\n",
       "      <td>63.976215</td>\n",
       "      <td>14.317582</td>\n",
       "      <td>27.508742</td>\n",
       "      <td>45.704999</td>\n",
       "      <td>51.329809</td>\n",
       "      <td>...</td>\n",
       "      <td>21.645175</td>\n",
       "      <td>34.189324</td>\n",
       "      <td>30.680713</td>\n",
       "      <td>43.280701</td>\n",
       "      <td>46.077499</td>\n",
       "      <td>74.103186</td>\n",
       "      <td>21.834126</td>\n",
       "      <td>40.771591</td>\n",
       "      <td>NaN</td>\n",
       "      <td>NaN</td>\n",
       "    </tr>\n",
       "    <tr>\n",
       "      <th>50%</th>\n",
       "      <td>134.066010</td>\n",
       "      <td>33.470402</td>\n",
       "      <td>38.734127</td>\n",
       "      <td>51.427849</td>\n",
       "      <td>90.290001</td>\n",
       "      <td>93.997112</td>\n",
       "      <td>32.911253</td>\n",
       "      <td>36.261847</td>\n",
       "      <td>89.119999</td>\n",
       "      <td>75.458969</td>\n",
       "      <td>...</td>\n",
       "      <td>30.424567</td>\n",
       "      <td>43.072651</td>\n",
       "      <td>40.645161</td>\n",
       "      <td>53.135380</td>\n",
       "      <td>78.595001</td>\n",
       "      <td>103.653469</td>\n",
       "      <td>26.167042</td>\n",
       "      <td>51.700823</td>\n",
       "      <td>NaN</td>\n",
       "      <td>NaN</td>\n",
       "    </tr>\n",
       "    <tr>\n",
       "      <th>75%</th>\n",
       "      <td>162.052372</td>\n",
       "      <td>46.543040</td>\n",
       "      <td>59.384840</td>\n",
       "      <td>75.791279</td>\n",
       "      <td>190.660000</td>\n",
       "      <td>149.989868</td>\n",
       "      <td>55.494214</td>\n",
       "      <td>39.247855</td>\n",
       "      <td>238.344997</td>\n",
       "      <td>123.202314</td>\n",
       "      <td>...</td>\n",
       "      <td>43.555832</td>\n",
       "      <td>69.835562</td>\n",
       "      <td>67.728615</td>\n",
       "      <td>77.995613</td>\n",
       "      <td>152.117504</td>\n",
       "      <td>117.136814</td>\n",
       "      <td>40.107069</td>\n",
       "      <td>90.269989</td>\n",
       "      <td>NaN</td>\n",
       "      <td>NaN</td>\n",
       "    </tr>\n",
       "    <tr>\n",
       "      <th>max</th>\n",
       "      <td>227.755096</td>\n",
       "      <td>63.032276</td>\n",
       "      <td>112.282272</td>\n",
       "      <td>102.631187</td>\n",
       "      <td>449.750000</td>\n",
       "      <td>262.319092</td>\n",
       "      <td>92.402596</td>\n",
       "      <td>50.280838</td>\n",
       "      <td>533.799988</td>\n",
       "      <td>175.898727</td>\n",
       "      <td>...</td>\n",
       "      <td>72.188370</td>\n",
       "      <td>152.110001</td>\n",
       "      <td>100.827866</td>\n",
       "      <td>114.538673</td>\n",
       "      <td>384.329987</td>\n",
       "      <td>158.105804</td>\n",
       "      <td>53.566162</td>\n",
       "      <td>173.116562</td>\n",
       "      <td>NaN</td>\n",
       "      <td>NaN</td>\n",
       "    </tr>\n",
       "  </tbody>\n",
       "</table>\n",
       "<p>8 rows × 505 columns</p>\n",
       "</div>"
      ],
      "text/plain": [
       "               MMM          AOS          ABT         ABBV         ABMD  \\\n",
       "count  2518.000000  2518.000000  2518.000000  2015.000000  2518.000000   \n",
       "mean    129.500052    32.770849    46.444723    57.276296   123.081910   \n",
       "std      43.221956    16.555322    23.071820    19.309089   115.215659   \n",
       "min      53.467857     6.549759    17.111717    23.022469     9.490000   \n",
       "25%      88.326887    17.244522    30.397619    42.209427    22.582500   \n",
       "50%     134.066010    33.470402    38.734127    51.427849    90.290001   \n",
       "75%     162.052372    46.543040    59.384840    75.791279   190.660000   \n",
       "max     227.755096    63.032276   112.282272   102.631187   449.750000   \n",
       "\n",
       "               ACN         ATVI          ADM         ADBE          ADP  ...  \\\n",
       "count  2518.000000  2518.000000  2518.000000  2518.000000  2518.000000  ...   \n",
       "mean    107.789455    36.281898    34.113940   143.081696    85.568949  ...   \n",
       "std      53.765677    22.964712     7.417566   124.003558    41.196759  ...   \n",
       "min      38.607128     9.571697    18.252689    22.690001    30.702240  ...   \n",
       "25%      63.976215    14.317582    27.508742    45.704999    51.329809  ...   \n",
       "50%      93.997112    32.911253    36.261847    89.119999    75.458969  ...   \n",
       "75%     149.989868    55.494214    39.247855   238.344997   123.202314  ...   \n",
       "max     262.319092    92.402596    50.280838   533.799988   175.898727  ...   \n",
       "\n",
       "               XEL         XLNX          XYL          YUM         ZBRA  \\\n",
       "count  2518.000000  2518.000000  2320.000000  2518.000000  2518.000000   \n",
       "mean     34.882851    55.474184    47.508639    60.326381   107.043304   \n",
       "std      15.009063    28.683313    21.298958    22.523191    76.508076   \n",
       "min      15.353941    22.038038    20.060301    27.142870    28.610001   \n",
       "25%      21.645175    34.189324    30.680713    43.280701    46.077499   \n",
       "50%      30.424567    43.072651    40.645161    53.135380    78.595001   \n",
       "75%      43.555832    69.835562    67.728615    77.995613   152.117504   \n",
       "max      72.188370   152.110001   100.827866   114.538673   384.329987   \n",
       "\n",
       "               ZBH         ZION          ZTS  CEG  OGN  \n",
       "count  2518.000000  2518.000000  1994.000000  0.0  0.0  \n",
       "mean     98.045064    30.111294    68.934349  NaN  NaN  \n",
       "std      27.579190    10.685199    38.794829  NaN  NaN  \n",
       "min      43.464252    11.924496    26.830307  NaN  NaN  \n",
       "25%      74.103186    21.834126    40.771591  NaN  NaN  \n",
       "50%     103.653469    26.167042    51.700823  NaN  NaN  \n",
       "75%     117.136814    40.107069    90.269989  NaN  NaN  \n",
       "max     158.105804    53.566162   173.116562  NaN  NaN  \n",
       "\n",
       "[8 rows x 505 columns]"
      ]
     },
     "execution_count": 10,
     "metadata": {},
     "output_type": "execute_result"
    }
   ],
   "source": [
    "price_data.describe()"
   ]
  },
  {
   "cell_type": "code",
   "execution_count": 14,
   "id": "6df75c0b",
   "metadata": {},
   "outputs": [
    {
     "data": {
      "text/plain": [
       "MMM        0\n",
       "AOS        0\n",
       "ABT        0\n",
       "ABBV     503\n",
       "ABMD       0\n",
       "        ... \n",
       "ZBH        0\n",
       "ZION       0\n",
       "ZTS      524\n",
       "CEG     2518\n",
       "OGN     2518\n",
       "Length: 505, dtype: int64"
      ]
     },
     "execution_count": 14,
     "metadata": {},
     "output_type": "execute_result"
    }
   ],
   "source": [
    "price_data.isnull().sum()"
   ]
  },
  {
   "cell_type": "markdown",
   "id": "4d7ab963",
   "metadata": {},
   "source": [
    "Missing Data due to Index Rebalancing"
   ]
  },
  {
   "cell_type": "code",
   "execution_count": 15,
   "id": "032ed525",
   "metadata": {},
   "outputs": [
    {
     "data": {
      "image/png": "[encoded data removed]",
      "text/plain": [
       "<Figure size 1152x576 with 2 Axes>"
      ]
     },
     "metadata": {
      "needs_background": "light"
     },
     "output_type": "display_data"
    }
   ],
   "source": [
    "figure = plt.figure(figsize=(16, 8))\n",
    "sns.heatmap(price_data.T.isnull());"
   ]
  },
  {
   "cell_type": "code",
   "execution_count": 1,
   "id": "0732773c",
   "metadata": {},
   "outputs": [
    {
     "data": {
      "text/html": [
       "<div>\n",
       "<style scoped>\n",
       "    .dataframe tbody tr th:only-of-type {\n",
       "        vertical-align: middle;\n",
       "    }\n",
       "\n",
       "    .dataframe tbody tr th {\n",
       "        vertical-align: top;\n",
       "    }\n",
       "\n",
       "    .dataframe thead th {\n",
       "        text-align: right;\n",
       "    }\n",
       "</style>\n",
       "<table border=\"1\" class=\"dataframe\">\n",
       "  <thead>\n",
       "    <tr style=\"text-align: right;\">\n",
       "      <th></th>\n",
       "      <th>Name</th>\n",
       "      <th>Location</th>\n",
       "      <th>Age</th>\n",
       "    </tr>\n",
       "  </thead>\n",
       "  <tbody>\n",
       "    <tr>\n",
       "      <th>0</th>\n",
       "      <td>John</td>\n",
       "      <td>New York</td>\n",
       "      <td>24</td>\n",
       "    </tr>\n",
       "    <tr>\n",
       "      <th>1</th>\n",
       "      <td>Anna</td>\n",
       "      <td>Paris</td>\n",
       "      <td>13</td>\n",
       "    </tr>\n",
       "    <tr>\n",
       "      <th>2</th>\n",
       "      <td>Peter</td>\n",
       "      <td>Berlin</td>\n",
       "      <td>53</td>\n",
       "    </tr>\n",
       "    <tr>\n",
       "      <th>3</th>\n",
       "      <td>Linda</td>\n",
       "      <td>London</td>\n",
       "      <td>33</td>\n",
       "    </tr>\n",
       "  </tbody>\n",
       "</table>\n",
       "</div>"
      ],
      "text/plain": [
       "    Name  Location  Age\n",
       "0   John  New York   24\n",
       "1   Anna     Paris   13\n",
       "2  Peter    Berlin   53\n",
       "3  Linda    London   33"
      ]
     },
     "metadata": {},
     "output_type": "display_data"
    }
   ],
   "source": [
    "import pandas as pd\n",
    "# create a simple dataset of people\n",
    "data = {'Name': [\"John\", \"Anna\", \"Peter\", \"Linda\"],\n",
    " 'Location' : [\"New York\", \"Paris\", \"Berlin\", \"London\"],\n",
    " 'Age' : [24, 13, 53, 33]\n",
    " }\n",
    "data_pandas = pd.DataFrame(data)\n",
    "# IPython.display allows \"pretty printing\" of dataframes\n",
    "# in the Jupyter notebook\n",
    "display(data_pandas)"
   ]
  },
  {
   "cell_type": "code",
   "execution_count": 2,
   "id": "c24561d0",
   "metadata": {},
   "outputs": [
    {
     "data": {
      "text/html": [
       "<div>\n",
       "<style scoped>\n",
       "    .dataframe tbody tr th:only-of-type {\n",
       "        vertical-align: middle;\n",
       "    }\n",
       "\n",
       "    .dataframe tbody tr th {\n",
       "        vertical-align: top;\n",
       "    }\n",
       "\n",
       "    .dataframe thead th {\n",
       "        text-align: right;\n",
       "    }\n",
       "</style>\n",
       "<table border=\"1\" class=\"dataframe\">\n",
       "  <thead>\n",
       "    <tr style=\"text-align: right;\">\n",
       "      <th></th>\n",
       "      <th>Name</th>\n",
       "      <th>Location</th>\n",
       "      <th>Age</th>\n",
       "    </tr>\n",
       "  </thead>\n",
       "  <tbody>\n",
       "    <tr>\n",
       "      <th>2</th>\n",
       "      <td>Peter</td>\n",
       "      <td>Berlin</td>\n",
       "      <td>53</td>\n",
       "    </tr>\n",
       "    <tr>\n",
       "      <th>3</th>\n",
       "      <td>Linda</td>\n",
       "      <td>London</td>\n",
       "      <td>33</td>\n",
       "    </tr>\n",
       "  </tbody>\n",
       "</table>\n",
       "</div>"
      ],
      "text/plain": [
       "    Name Location  Age\n",
       "2  Peter   Berlin   53\n",
       "3  Linda   London   33"
      ]
     },
     "metadata": {},
     "output_type": "display_data"
    }
   ],
   "source": [
    "# Select all rows that have an age column greater than 30\n",
    "display(data_pandas[data_pandas.Age > 30])\n"
   ]
  },
  {
   "cell_type": "code",
   "execution_count": 5,
   "id": "7d9ed04a",
   "metadata": {},
   "outputs": [],
   "source": [
    "from sklearn.datasets import load_iris\n",
    "iris_dataset = load_iris()"
   ]
  },
  {
   "cell_type": "code",
   "execution_count": 6,
   "id": "bf4627d3",
   "metadata": {},
   "outputs": [
    {
     "name": "stdout",
     "output_type": "stream",
     "text": [
      "Keys of iris_dataset: \n",
      "dict_keys(['data', 'target', 'frame', 'target_names', 'DESCR', 'feature_names', 'filename', 'data_module'])\n"
     ]
    }
   ],
   "source": [
    "print(\"Keys of iris_dataset: \\n{}\".format(iris_dataset.keys()))"
   ]
  },
  {
   "cell_type": "code",
   "execution_count": 7,
   "id": "661ca0e0",
   "metadata": {},
   "outputs": [
    {
     "name": "stdout",
     "output_type": "stream",
     "text": [
      ".. _iris_dataset:\n",
      "\n",
      "Iris plants dataset\n",
      "--------------------\n",
      "\n",
      "**Data Set Characteristics:**\n",
      "\n",
      "    :Number of Instances: 150 (50 in each of three classes)\n",
      "    :Number of Attributes: 4 numeric, pre\n",
      "...\n"
     ]
    }
   ],
   "source": [
    "print(iris_dataset['DESCR'][:193] + \"\\n...\")"
   ]
  },
  {
   "cell_type": "code",
   "execution_count": 8,
   "id": "6251afcb",
   "metadata": {},
   "outputs": [
    {
     "name": "stdout",
     "output_type": "stream",
     "text": [
      "Target names: ['setosa' 'versicolor' 'virginica']\n"
     ]
    }
   ],
   "source": [
    "print(\"Target names: {}\".format(iris_dataset['target_names']))"
   ]
  },
  {
   "cell_type": "code",
   "execution_count": 9,
   "id": "d86d0a15",
   "metadata": {},
   "outputs": [
    {
     "name": "stdout",
     "output_type": "stream",
     "text": [
      "Feature names: \n",
      "['sepal length (cm)', 'sepal width (cm)', 'petal length (cm)', 'petal width (cm)']\n"
     ]
    }
   ],
   "source": [
    "print(\"Feature names: \\n{}\".format(iris_dataset['feature_names']))"
   ]
  },
  {
   "cell_type": "code",
   "execution_count": 10,
   "id": "9911ad7f",
   "metadata": {},
   "outputs": [
    {
     "name": "stdout",
     "output_type": "stream",
     "text": [
      "Type of data: <class 'numpy.ndarray'>\n"
     ]
    }
   ],
   "source": [
    "print(\"Type of data: {}\".format(type(iris_dataset['data'])))"
   ]
  },
  {
   "cell_type": "code",
   "execution_count": 11,
   "id": "0687f7d4",
   "metadata": {},
   "outputs": [
    {
     "name": "stdout",
     "output_type": "stream",
     "text": [
      "Shape of data: (150, 4)\n"
     ]
    }
   ],
   "source": [
    "print(\"Shape of data: {}\".format(iris_dataset['data'].shape))"
   ]
  },
  {
   "cell_type": "code",
   "execution_count": 12,
   "id": "f5489cd5",
   "metadata": {},
   "outputs": [
    {
     "name": "stdout",
     "output_type": "stream",
     "text": [
      "First five columns of data:\n",
      "[[5.1 3.5 1.4 0.2]\n",
      " [4.9 3.  1.4 0.2]\n",
      " [4.7 3.2 1.3 0.2]\n",
      " [4.6 3.1 1.5 0.2]\n",
      " [5.  3.6 1.4 0.2]]\n"
     ]
    }
   ],
   "source": [
    "print(\"First five columns of data:\\n{}\".format(iris_dataset['data'][:5]))"
   ]
  },
  {
   "cell_type": "code",
   "execution_count": 13,
   "id": "1cd0f526",
   "metadata": {},
   "outputs": [
    {
     "name": "stdout",
     "output_type": "stream",
     "text": [
      "Type of target: <class 'numpy.ndarray'>\n"
     ]
    }
   ],
   "source": [
    "print(\"Type of target: {}\".format(type(iris_dataset['target'])))"
   ]
  },
  {
   "cell_type": "code",
   "execution_count": 14,
   "id": "f35a780d",
   "metadata": {},
   "outputs": [
    {
     "name": "stdout",
     "output_type": "stream",
     "text": [
      "Shape of target: (150,)\n"
     ]
    }
   ],
   "source": [
    "print(\"Shape of target: {}\".format(iris_dataset['target'].shape))"
   ]
  },
  {
   "cell_type": "code",
   "execution_count": 15,
   "id": "ac60c8fc",
   "metadata": {},
   "outputs": [
    {
     "name": "stdout",
     "output_type": "stream",
     "text": [
      "Target:\n",
      "[0 0 0 0 0 0 0 0 0 0 0 0 0 0 0 0 0 0 0 0 0 0 0 0 0 0 0 0 0 0 0 0 0 0 0 0 0\n",
      " 0 0 0 0 0 0 0 0 0 0 0 0 0 1 1 1 1 1 1 1 1 1 1 1 1 1 1 1 1 1 1 1 1 1 1 1 1\n",
      " 1 1 1 1 1 1 1 1 1 1 1 1 1 1 1 1 1 1 1 1 1 1 1 1 1 1 2 2 2 2 2 2 2 2 2 2 2\n",
      " 2 2 2 2 2 2 2 2 2 2 2 2 2 2 2 2 2 2 2 2 2 2 2 2 2 2 2 2 2 2 2 2 2 2 2 2 2\n",
      " 2 2]\n"
     ]
    }
   ],
   "source": [
    "print(\"Target:\\n{}\".format(iris_dataset['target']))"
   ]
  },
  {
   "cell_type": "code",
   "execution_count": 16,
   "id": "73c5526f",
   "metadata": {},
   "outputs": [],
   "source": [
    "from sklearn.model_selection import train_test_split\n",
    "X_train, X_test, y_train, y_test = train_test_split(\n",
    " iris_dataset['data'], iris_dataset['target'], random_state=0)"
   ]
  },
  {
   "cell_type": "code",
   "execution_count": 17,
   "id": "fd0a2ee8",
   "metadata": {},
   "outputs": [
    {
     "name": "stdout",
     "output_type": "stream",
     "text": [
      "X_train shape: (112, 4)\n",
      "y_train shape: (112,)\n"
     ]
    }
   ],
   "source": [
    "print(\"X_train shape: {}\".format(X_train.shape))\n",
    "print(\"y_train shape: {}\".format(y_train.shape))"
   ]
  },
  {
   "cell_type": "code",
   "execution_count": 18,
   "id": "39ac1800",
   "metadata": {},
   "outputs": [
    {
     "name": "stdout",
     "output_type": "stream",
     "text": [
      "X_test shape: (38, 4)\n",
      "y_test shape: (38,)\n"
     ]
    }
   ],
   "source": [
    "print(\"X_test shape: {}\".format(X_test.shape))\n",
    "print(\"y_test shape: {}\".format(y_test.shape))"
   ]
  },
  {
   "cell_type": "code",
   "execution_count": 20,
   "id": "eb7c3e45",
   "metadata": {},
   "outputs": [],
   "source": [
    "from sklearn.neighbors import KNeighborsClassifier\n",
    "knn = KNeighborsClassifier(n_neighbors=1)\n"
   ]
  },
  {
   "cell_type": "code",
   "execution_count": 21,
   "id": "55699317",
   "metadata": {},
   "outputs": [
    {
     "data": {
      "text/plain": [
       "KNeighborsClassifier(n_neighbors=1)"
      ]
     },
     "execution_count": 21,
     "metadata": {},
     "output_type": "execute_result"
    }
   ],
   "source": [
    "knn.fit(X_train, y_train)"
   ]
  },
  {
   "cell_type": "code",
   "execution_count": 24,
   "id": "e04503f8",
   "metadata": {},
   "outputs": [],
   "source": [
    "import numpy as np"
   ]
  },
  {
   "cell_type": "code",
   "execution_count": 25,
   "id": "a7313b0c",
   "metadata": {},
   "outputs": [
    {
     "name": "stdout",
     "output_type": "stream",
     "text": [
      "X_new.shape: (1, 4)\n"
     ]
    }
   ],
   "source": [
    "X_new = np.array([[5, 2.9, 1, 0.2]])\n",
    "print(\"X_new.shape: {}\".format(X_new.shape))"
   ]
  },
  {
   "cell_type": "code",
   "execution_count": 26,
   "id": "a6416154",
   "metadata": {},
   "outputs": [
    {
     "name": "stdout",
     "output_type": "stream",
     "text": [
      "Prediction: [0]\n",
      "Predicted target name: ['setosa']\n"
     ]
    }
   ],
   "source": [
    "prediction = knn.predict(X_new)\n",
    "print(\"Prediction: {}\".format(prediction))\n",
    "print(\"Predicted target name: {}\".format(\n",
    " iris_dataset['target_names'][prediction]))"
   ]
  },
  {
   "cell_type": "code",
   "execution_count": 27,
   "id": "ed5ad0a3",
   "metadata": {},
   "outputs": [
    {
     "name": "stdout",
     "output_type": "stream",
     "text": [
      "Test set predictions:\n",
      " [2 1 0 2 0 2 0 1 1 1 2 1 1 1 1 0 1 1 0 0 2 1 0 0 2 0 0 1 1 0 2 1 0 2 2 1 0\n",
      " 2]\n"
     ]
    }
   ],
   "source": [
    "y_pred = knn.predict(X_test)\n",
    "print(\"Test set predictions:\\n {}\".format(y_pred))"
   ]
  },
  {
   "cell_type": "code",
   "execution_count": 28,
   "id": "1005c1b7",
   "metadata": {},
   "outputs": [
    {
     "name": "stdout",
     "output_type": "stream",
     "text": [
      "Test set score: 0.97\n"
     ]
    }
   ],
   "source": [
    "print(\"Test set score: {:.2f}\".format(np.mean(y_pred == y_test)))"
   ]
  },
  {
   "cell_type": "code",
   "execution_count": 29,
   "id": "38939617",
   "metadata": {},
   "outputs": [
    {
     "name": "stdout",
     "output_type": "stream",
     "text": [
      "Test set score: 0.97\n"
     ]
    }
   ],
   "source": [
    "print(\"Test set score: {:.2f}\".format(knn.score(X_test, y_test)))"
   ]
  },
  {
   "cell_type": "code",
   "execution_count": null,
   "id": "f0d17c3c",
   "metadata": {},
   "outputs": [],
   "source": []
  }
 ],
 "metadata": {
  "kernelspec": {
   "display_name": "Python 3 (ipykernel)",
   "language": "python",
   "name": "python3"
  },
  "language_info": {
   "codemirror_mode": {
    "name": "ipython",
    "version": 3
   },
   "file_extension": ".py",
   "mimetype": "text/x-python",
   "name": "python",
   "nbconvert_exporter": "python",
   "pygments_lexer": "ipython3",
   "version": "3.9.12"
  }
 },
 "nbformat": 4,
 "nbformat_minor": 5
}
